{
 "metadata": {
  "name": "",
  "signature": "sha256:6e09469bf55432ededcb154c11b25414544112b2e99a0c430cd66760dd12f116"
 },
 "nbformat": 3,
 "nbformat_minor": 0,
 "worksheets": [
  {
   "cells": [
    {
     "cell_type": "code",
     "collapsed": false,
     "input": [
      "def S2Z(S, Zc):\n",
      "    '''\n",
      "    Returns the impedance parameter of a one from its scattering parameter\n",
      "    '''\n",
      "    Z = Zc*(1+S)/(1-S)\n",
      "    return(Z)\n",
      "\n",
      "def Z2S(Z, Zc):\n",
      "    '''\n",
      "    Returns the scattering parameter of a one-port from its impedance parameter\n",
      "    '''\n",
      "    S = (Z-Zc)/(Z+Zc)\n",
      "    return(S)\n",
      "\n",
      "def deemb_S(S, L, f):\n",
      "    '''\n",
      "    Returns the scattering parameter of a one-port taking into account a deembedding of length L  for a coaxial line\n",
      "    '''\n",
      "    from scipy.constants import c\n",
      "    beta = 2*pi*f/c\n",
      "    S_new = S * exp(-2*1j*beta*L)\n",
      "    return(S_new)"
     ],
     "language": "python",
     "metadata": {},
     "outputs": [],
     "prompt_number": 1
    },
    {
     "cell_type": "code",
     "collapsed": false,
     "input": [
      "cd C:\\Users\\JH218595\\Documents\\Notebooks\\WEST_IC_Deembedding"
     ],
     "language": "python",
     "metadata": {},
     "outputs": [
      {
       "output_type": "stream",
       "stream": "stdout",
       "text": [
        "C:\\Users\\JH218595\\Documents\\Notebooks\\WEST_IC_Deembedding\n"
       ]
      }
     ],
     "prompt_number": 2
    },
    {
     "cell_type": "code",
     "collapsed": false,
     "input": [
      "%load WEST_Z11_quarterModels.txt"
     ],
     "language": "python",
     "metadata": {},
     "outputs": [],
     "prompt_number": 3
    },
    {
     "cell_type": "code",
     "collapsed": false,
     "input": [
      "Model Proto 2007\n",
      "-----------------\n",
      "Zc = 23.8 Ohm\n",
      "Sans deembedding : Z11@48MHz = 0.634 + i38.45\n",
      "Avec deembedding : Z11@48MHz = 0.447 + i29.61 (122mm)\n",
      "\n",
      "\n",
      "Model V1\n",
      "--------\n",
      "Zc = 23.8 Ohm\n",
      "Sans deembedding : Z11@48MHz = 0.167 + i27.86\n",
      "Avec deembedding : Z11@48MHz = 0.130 + i21.85 (120mm)\n",
      "\n",
      "Model V4\n",
      "--------\n",
      "Zc = 9.2 Ohm\n",
      "Sans deembedding : Z11@48MHz = 0.195 + i29.62\n",
      "Avec deembedding : Z11@48MHz = 0.115 + i21.96 (95mm)\n",
      "\n",
      "Model Final\n",
      "------------\n",
      "Zc = 46.6 Ohm\n",
      "Sans deembedding : Z11@48MHz = 0.1834 + i40.43\n",
      "Avec deembedding : Z11@48MHz = 0.1306 + i23.32 (250.7mm)\n",
      "\n",
      "\n",
      " "
     ],
     "language": "python",
     "metadata": {},
     "outputs": []
    },
    {
     "cell_type": "code",
     "collapsed": false,
     "input": [
      "Model Proto 2007\n",
      "-----------------\n",
      "Zc = 23.8 Ohm\n",
      "Sans deembedding : Z11@48MHz = 0.634 + i38.45\n",
      "Avec deembedding : Z11@48MHz = 0.447 + i29.61 (122mm)\n",
      "\n",
      "\n",
      "Model V1\n",
      "--------\n",
      "Zc = 23.8 Ohm\n",
      "Sans deembedding : Z11@48MHz = 0.167 + i27.86\n",
      "Avec deembedding : Z11@48MHz = 0.130 + i21.85 (120mm)\n",
      "\n",
      "Model V4\n",
      "--------\n",
      "Zc = 9.2 Ohm\n",
      "Sans deembedding : Z11@48MHz = 0.195 + i29.62\n",
      "Avec deembedding : Z11@48MHz = 0.115 + i21.96 (95mm)\n",
      "\n",
      "Model Final\n",
      "------------\n",
      "Zc = 46.6 Ohm\n",
      "Sans deembedding : Z11@48MHz = 0.1834 + i40.43\n",
      "Avec deembedding : Z11@48MHz = 0.1306 + i23.32 (250.7mm)\n",
      "\n",
      "\n",
      " "
     ],
     "language": "python",
     "metadata": {},
     "outputs": [
      {
       "ename": "SyntaxError",
       "evalue": "invalid syntax (<ipython-input-4-ad77f2f41863>, line 1)",
       "output_type": "pyerr",
       "traceback": [
        "\u001b[1;36m  File \u001b[1;32m\"<ipython-input-4-ad77f2f41863>\"\u001b[1;36m, line \u001b[1;32m1\u001b[0m\n\u001b[1;33m    Model Proto 2007\u001b[0m\n\u001b[1;37m              ^\u001b[0m\n\u001b[1;31mSyntaxError\u001b[0m\u001b[1;31m:\u001b[0m invalid syntax\n"
       ]
      }
     ],
     "prompt_number": 4
    },
    {
     "cell_type": "code",
     "collapsed": false,
     "input": [
      "Model Proto 2007\n",
      "-----------------\n",
      "Zc = 23.8 Ohm\n",
      "Sans deembedding : Z11@48MHz = 0.634 + i38.45\n",
      "Avec deembedding : Z11@48MHz = 0.447 + i29.61 (122mm)\n",
      "\n",
      "\n",
      "Model V1\n",
      "--------\n",
      "Zc = 23.8 Ohm\n",
      "Sans deembedding : Z11@48MHz = 0.167 + i27.86\n",
      "Avec deembedding : Z11@48MHz = 0.130 + i21.85 (120mm)\n",
      "\n",
      "Model V4\n",
      "--------\n",
      "Zc = 9.2 Ohm\n",
      "Sans deembedding : Z11@48MHz = 0.195 + i29.62\n",
      "Avec deembedding : Z11@48MHz = 0.115 + i21.96 (95mm)\n",
      "\n",
      "Model Final\n",
      "------------\n",
      "Zc = 46.6 Ohm\n",
      "Sans deembedding : Z11@48MHz = 0.1834 + i40.43\n",
      "Avec deembedding : Z11@48MHz = 0.1306 + i23.32 (250.7mm)\n",
      "\n",
      "\n",
      " "
     ],
     "language": "python",
     "metadata": {},
     "outputs": [
      {
       "ename": "SyntaxError",
       "evalue": "invalid syntax (<ipython-input-5-ad77f2f41863>, line 1)",
       "output_type": "pyerr",
       "traceback": [
        "\u001b[1;36m  File \u001b[1;32m\"<ipython-input-5-ad77f2f41863>\"\u001b[1;36m, line \u001b[1;32m1\u001b[0m\n\u001b[1;33m    Model Proto 2007\u001b[0m\n\u001b[1;37m              ^\u001b[0m\n\u001b[1;31mSyntaxError\u001b[0m\u001b[1;31m:\u001b[0m invalid syntax\n"
       ]
      }
     ],
     "prompt_number": 5
    },
    {
     "cell_type": "code",
     "collapsed": false,
     "input": [
      "#Proto 2007\n",
      "Z = 0.2639946E+00  + 1j*0.3001749E+02\n",
      "Zc = 24.25\n",
      "L = 120.4e-3 \n",
      "\n",
      "# WEST\n",
      "#Z = 0.7461050E+00  + 1j*0.2967832E+02\n",
      "#Zc = 46.61\n",
      "#L = 111.8e-3\n",
      "\n",
      "S = Z2S(Z, Zc)\n",
      "S_new = deemb_S(S, -L, 48e6)\n",
      "Z_new = S2Z(S_new, Zc)\n",
      "Z_new"
     ],
     "language": "python",
     "metadata": {},
     "outputs": [
      {
       "metadata": {},
       "output_type": "pyout",
       "prompt_number": 9,
       "text": [
        "(0.20233992514012569+23.522056778277374j)"
       ]
      }
     ],
     "prompt_number": 9
    },
    {
     "cell_type": "code",
     "collapsed": false,
     "input": [],
     "language": "python",
     "metadata": {},
     "outputs": []
    }
   ],
   "metadata": {}
  }
 ]
}