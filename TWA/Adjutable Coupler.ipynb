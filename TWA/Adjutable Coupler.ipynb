{
 "cells": [
  {
   "cell_type": "code",
   "execution_count": 10,
   "metadata": {},
   "outputs": [
    {
     "name": "stdout",
     "output_type": "stream",
     "text": [
      "Using matplotlib backend: Qt5Agg\n",
      "Populating the interactive namespace from numpy and matplotlib\n"
     ]
    },
    {
     "name": "stderr",
     "output_type": "stream",
     "text": [
      "C:\\Users\\JH218595\\AppData\\Local\\Continuum\\Anaconda3\\lib\\site-packages\\IPython\\core\\magics\\pylab.py:160: UserWarning: pylab import has clobbered these variables: ['pi', 'beta', 'f', 'cycler']\n",
      "`%matplotlib` prevents importing * from pylab and numpy\n",
      "  \"\\n`%matplotlib` prevents importing * from pylab and numpy\"\n"
     ]
    }
   ],
   "source": [
    "import skrf as rf\n",
    "import cycler\n",
    "%pylab\n",
    "%matplotlib inline"
   ]
  },
  {
   "cell_type": "markdown",
   "metadata": {
    "collapsed": true
   },
   "source": [
    "A 3dB hybrid coupler is defined by the scattering matrix:\n",
    "$$\n",
    "\\mathbf{S}_c\n",
    "=\n",
    "\\frac{1}{\\sqrt{2}}\n",
    "\\left(\n",
    "\\begin{array}{cccc}\n",
    "0 & 1 & j & 0 \\\\\n",
    "1 & 0 & 0 & j \\\\\n",
    "j & 0 & 0 & 1 \\\\\n",
    "0 & j & 1 & 0\n",
    "\\end{array}\n",
    "\\right)\n",
    "$$"
   ]
  },
  {
   "cell_type": "code",
   "execution_count": 2,
   "metadata": {
    "collapsed": true
   },
   "outputs": [],
   "source": [
    "Sc = 1/sqrt(2)*np.array([[0,1,1j,0], [1,0,0,1j], [1j,0,0,1], [0,1j,1,0]])"
   ]
  },
  {
   "cell_type": "markdown",
   "metadata": {},
   "source": [
    "The line stretcher is defined by the following scattering matrix :\n",
    "$$\n",
    "\\mathbf{S}_{ls}(\\ell)\n",
    "=\n",
    "\\left(\n",
    "\\begin{array}{cc}\n",
    "0 & \\exp(-j\\beta \\ell) \\\\\n",
    "\\exp(-j\\beta \\ell) & 0 \n",
    "\\end{array}\n",
    "\\right)\n",
    "$$\n",
    "with $\\beta=\\omega/c$"
   ]
  },
  {
   "cell_type": "code",
   "execution_count": 3,
   "metadata": {
    "collapsed": true
   },
   "outputs": [],
   "source": [
    "from scipy.constants import c, pi\n",
    "\n",
    "def S_ls(l=0, f=50e6):\n",
    "    beta=2*pi*f/c\n",
    "    delta=np.exp(-1j*beta*l)\n",
    "    return np.array([[0, delta], [delta,0]])"
   ]
  },
  {
   "cell_type": "markdown",
   "metadata": {},
   "source": [
    "The combination of two 3dB hybrid junctions and a line strecher leads to an adjustable coupler\n",
    "$$\n",
    "\\mathbf{S}_{vc}\n",
    "=\n",
    "\\frac{1}{2}\n",
    "\\left(\n",
    "\\begin{array}{cccc}\n",
    "0 & (1-\\delta) & j(1+\\delta) & 0 \\\\\n",
    "(1-\\delta) & 0 & 0 & j(1+\\delta) \\\\\n",
    "j(1+\\delta) & 0 & 0 & -(1-\\delta) \\\\\n",
    "0 & j(1+\\delta) & -(1-\\delta) & 0\n",
    "\\end{array}\n",
    "\\right)\n",
    "$$\n",
    "with $\\delta=\\exp(-j \\beta \\ell)$"
   ]
  },
  {
   "cell_type": "code",
   "execution_count": 4,
   "metadata": {
    "collapsed": true
   },
   "outputs": [],
   "source": [
    "def S_vc(l=0, f=50e6):\n",
    "    beta = 2*pi*f/c\n",
    "    delta = np.exp(-1j*beta*l)\n",
    "    S_vc = 1/2*np.array([\n",
    "        [0, (1-delta), 1j*(1+delta), 0], \n",
    "        [(1-delta), 0, 0, 1j*(1+delta)],\n",
    "        [1j*(1+delta), 0, 0, -(1-delta)],\n",
    "        [0, 1j*(1+delta), -(1-delta), 0]])\n",
    "    return S_vc"
   ]
  },
  {
   "cell_type": "code",
   "execution_count": 5,
   "metadata": {
    "collapsed": true
   },
   "outputs": [],
   "source": [
    "f=50e6\n",
    "beta=2*pi*f/c"
   ]
  },
  {
   "cell_type": "code",
   "execution_count": 6,
   "metadata": {
    "collapsed": true
   },
   "outputs": [],
   "source": [
    "phi = np.linspace(0, 180, num=180)*pi/180\n",
    "ls = phi/beta"
   ]
  },
  {
   "cell_type": "code",
   "execution_count": 7,
   "metadata": {
    "collapsed": true
   },
   "outputs": [],
   "source": [
    "C = []\n",
    "for l in ls:\n",
    "    S = S_vc(l,f)\n",
    "    C.append(S@r_[1,0.5,0,0])"
   ]
  },
  {
   "cell_type": "code",
   "execution_count": 9,
   "metadata": {},
   "outputs": [
    {
     "data": {
      "text/plain": [
       "(0, 1)"
      ]
     },
     "execution_count": 9,
     "metadata": {},
     "output_type": "execute_result"
    },
    {
     "data": {
      "image/png": "[encoded data removed]",
      "text/plain": [
       "<matplotlib.figure.Figure at 0x946e470>"
      ]
     },
     "metadata": {},
     "output_type": "display_data"
    }
   ],
   "source": [
    "fig,ax=subplots()\n",
    "# 2. Define prop cycle for single set of axes\n",
    "ax.set_prop_cycle(cycler.cycler('color', ['b','r','k','g']) \n",
    "                  + cycler.cycler('ls', ['-', '--', ':', '-.']))\n",
    "plot(phi*180/pi, (abs(np.asarray(C))), lw=2)\n",
    "legend(('1','2','3','4'))\n",
    "#ylim(-10,0)\n",
    "ylim(0,1)\n",
    "#axhline(-3, color='k', ls='--')"
   ]
  },
  {
   "cell_type": "code",
   "execution_count": null,
   "metadata": {
    "collapsed": true
   },
   "outputs": [],
   "source": []
  }
 ],
 "metadata": {
  "kernelspec": {
   "display_name": "Python 3",
   "language": "python",
   "name": "python3"
  },
  "language_info": {
   "codemirror_mode": {
    "name": "ipython",
    "version": 3
   },
   "file_extension": ".py",
   "mimetype": "text/x-python",
   "name": "python",
   "nbconvert_exporter": "python",
   "pygments_lexer": "ipython3",
   "version": "3.6.2"
  }
 },
 "nbformat": 4,
 "nbformat_minor": 2
}
