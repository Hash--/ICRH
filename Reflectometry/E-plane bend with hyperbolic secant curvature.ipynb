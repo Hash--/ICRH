{
 "metadata": {
  "name": "",
  "signature": "sha256:c63448ee57f1b69ae9a4a9f2f781c3eddb4c0c7b5af0b143f17d451666ae6d63"
 },
 "nbformat": 3,
 "nbformat_minor": 0,
 "worksheets": [
  {
   "cells": [
    {
     "cell_type": "markdown",
     "metadata": {},
     "source": [
      "We remind here the expression of the curvature for a given set of parametric equations $(x(t), y(t))$ :\n",
      "$$ c(t) = \\frac{x'(t) y''(t) - y'(t) x''(t) }{\\left(x'(t)^2 + y'(t)^2 \\right)^{3/2}}$$"
     ]
    },
    {
     "cell_type": "markdown",
     "metadata": {},
     "source": [
      "Let :\n",
      "$$ x(t) = t R_0 \\cos\\frac{\\pi}{4}$$\n",
      "$$ y(t) = 2 R_0 \\mathrm{sech}\\left( \\frac{x(t)}{R_0} \\right) = \\frac{2 R_0}{\\cosh\\left( \\frac{x(t)}{R_0} \\right)}$$"
     ]
    },
    {
     "cell_type": "code",
     "collapsed": false,
     "input": [
      "from sympy import *"
     ],
     "language": "python",
     "metadata": {},
     "outputs": [],
     "prompt_number": 11
    },
    {
     "cell_type": "markdown",
     "metadata": {},
     "source": [
      "For a nice $\\LaTeX$ printing :"
     ]
    },
    {
     "cell_type": "code",
     "collapsed": false,
     "input": [
      "init_printing()"
     ],
     "language": "python",
     "metadata": {},
     "outputs": [],
     "prompt_number": 12
    },
    {
     "cell_type": "markdown",
     "metadata": {},
     "source": [
      "Defining the symbolic notations :"
     ]
    },
    {
     "cell_type": "code",
     "collapsed": false,
     "input": [
      "t, r, a, b = symbols('t r a b')"
     ],
     "language": "python",
     "metadata": {},
     "outputs": [],
     "prompt_number": 13
    },
    {
     "cell_type": "code",
     "collapsed": false,
     "input": [
      "x = -r * sin(t*pi/4)\n",
      "y = a/cosh(sin(t*pi/4))+b"
     ],
     "language": "python",
     "metadata": {},
     "outputs": [],
     "prompt_number": 14
    },
    {
     "cell_type": "code",
     "collapsed": false,
     "input": [
      "(diff(y,t)+1).subs(t,-1)"
     ],
     "language": "python",
     "metadata": {},
     "outputs": [
      {
       "latex": [
        "$$\\frac{\\sqrt{2} \\pi a \\sinh{\\left (\\frac{\\sqrt{2}}{2} \\right )}}{8 \\cosh^{2}{\\left (\\frac{\\sqrt{2}}{2} \\right )}} + 1$$"
       ],
       "metadata": {},
       "output_type": "pyout",
       "png": "[encoded data removed]",
       "prompt_number": 25,
       "text": [
        "              \u239b  ___\u239e    \n",
        "  ___         \u239c\u2572\u2571 2 \u239f    \n",
        "\u2572\u2571 2 \u22c5\u03c0\u22c5a\u22c5sinh\u239c\u2500\u2500\u2500\u2500\u2500\u239f    \n",
        "              \u239d  2  \u23a0    \n",
        "\u2500\u2500\u2500\u2500\u2500\u2500\u2500\u2500\u2500\u2500\u2500\u2500\u2500\u2500\u2500\u2500\u2500\u2500\u2500\u2500\u2500 + 1\n",
        "           \u239b  ___\u239e       \n",
        "          2\u239c\u2572\u2571 2 \u239f       \n",
        "    8\u22c5cosh \u239c\u2500\u2500\u2500\u2500\u2500\u239f       \n",
        "           \u239d  2  \u23a0       "
       ]
      }
     ],
     "prompt_number": 25
    },
    {
     "cell_type": "code",
     "collapsed": false,
     "input": [
      "solve(_, a)"
     ],
     "language": "python",
     "metadata": {},
     "outputs": [
      {
       "latex": [
        "$$\\begin{bmatrix}- \\frac{4 \\sqrt{2} \\cosh^{2}{\\left (\\frac{\\sqrt{2}}{2} \\right )}}{\\pi \\sinh{\\left (\\frac{\\sqrt{2}}{2} \\right )}}\\end{bmatrix}$$"
       ],
       "metadata": {},
       "output_type": "pyout",
       "png": "[encoded data removed]",
       "prompt_number": 26,
       "text": [
        "\u23a1              \u239b  ___\u239e \u23a4\n",
        "\u23a2     ___     2\u239c\u2572\u2571 2 \u239f \u23a5\n",
        "\u23a2-4\u22c5\u2572\u2571 2 \u22c5cosh \u239c\u2500\u2500\u2500\u2500\u2500\u239f \u23a5\n",
        "\u23a2              \u239d  2  \u23a0 \u23a5\n",
        "\u23a2\u2500\u2500\u2500\u2500\u2500\u2500\u2500\u2500\u2500\u2500\u2500\u2500\u2500\u2500\u2500\u2500\u2500\u2500\u2500\u2500\u2500\u2500\u23a5\n",
        "\u23a2          \u239b  ___\u239e     \u23a5\n",
        "\u23a2          \u239c\u2572\u2571 2 \u239f     \u23a5\n",
        "\u23a2    \u03c0\u22c5sinh\u239c\u2500\u2500\u2500\u2500\u2500\u239f     \u23a5\n",
        "\u23a3          \u239d  2  \u23a0     \u23a6"
       ]
      }
     ],
     "prompt_number": 26
    },
    {
     "cell_type": "raw",
     "metadata": {},
     "source": [
      "x,y"
     ]
    },
    {
     "cell_type": "markdown",
     "metadata": {},
     "source": [
      "Calculating the differential expressions"
     ]
    },
    {
     "cell_type": "code",
     "collapsed": false,
     "input": [
      "xp = diff(x, t)\n",
      "yp = diff(y, t).simplify()\n",
      "xpp = diff(xp, t)\n",
      "ypp = diff(yp, t).simplify()"
     ],
     "language": "python",
     "metadata": {},
     "outputs": [],
     "prompt_number": 49
    },
    {
     "cell_type": "code",
     "collapsed": false,
     "input": [
      "xp, yp, xpp, ypp"
     ],
     "language": "python",
     "metadata": {},
     "outputs": [
      {
       "latex": [
        "$$\\begin{pmatrix}- \\frac{\\pi r}{4} \\cos{\\left (\\frac{\\pi t}{4} \\right )}, & - \\frac{\\pi a \\cos{\\left (\\frac{\\pi t}{4} \\right )} \\sinh{\\left (\\sin{\\left (\\frac{\\pi t}{4} \\right )} \\right )}}{4 \\cosh^{2}{\\left (\\sin{\\left (\\frac{\\pi t}{4} \\right )} \\right )}}, & \\frac{\\pi^{2} r}{16} \\sin{\\left (\\frac{\\pi t}{4} \\right )}, & \\frac{\\pi^{2} a}{16 \\cosh{\\left (\\sin{\\left (\\frac{\\pi t}{4} \\right )} \\right )}} \\left(\\sin{\\left (\\frac{\\pi t}{4} \\right )} \\tanh{\\left (\\sin{\\left (\\frac{\\pi t}{4} \\right )} \\right )} + \\cos^{2}{\\left (\\frac{\\pi t}{4} \\right )} - \\frac{2 \\cos^{2}{\\left (\\frac{\\pi t}{4} \\right )}}{\\cosh^{2}{\\left (\\sin{\\left (\\frac{\\pi t}{4} \\right )} \\right )}}\\right)\\end{pmatrix}$$"
       ],
       "metadata": {},
       "output_type": "pyout",
       "prompt_number": 50,
       "text": [
        "\u239b                                                                   \u239b         \n",
        "\u239c                                                                   \u239c         \n",
        "\u239c                                                               2   \u239c   \u239b\u03c0\u22c5t\u239e \n",
        "\u239c                                                              \u03c0 \u22c5a\u22c5\u239csin\u239c\u2500\u2500\u2500\u239f\u22c5\n",
        "\u239c        \u239b\u03c0\u22c5t\u239e           \u239b\u03c0\u22c5t\u239e     \u239b   \u239b\u03c0\u22c5t\u239e\u239e    2      \u239b\u03c0\u22c5t\u239e       \u239c   \u239d 4 \u23a0 \n",
        "\u239c-\u03c0\u22c5r\u22c5cos\u239c\u2500\u2500\u2500\u239f   -\u03c0\u22c5a\u22c5cos\u239c\u2500\u2500\u2500\u239f\u22c5sinh\u239csin\u239c\u2500\u2500\u2500\u239f\u239f   \u03c0 \u22c5r\u22c5sin\u239c\u2500\u2500\u2500\u239f       \u239c         \n",
        "\u239c        \u239d 4 \u23a0           \u239d 4 \u23a0     \u239d   \u239d 4 \u23a0\u23a0           \u239d 4 \u23a0       \u239d         \n",
        "\u239c\u2500\u2500\u2500\u2500\u2500\u2500\u2500\u2500\u2500\u2500\u2500\u2500\u2500\u2500, \u2500\u2500\u2500\u2500\u2500\u2500\u2500\u2500\u2500\u2500\u2500\u2500\u2500\u2500\u2500\u2500\u2500\u2500\u2500\u2500\u2500\u2500\u2500\u2500\u2500\u2500\u2500\u2500\u2500, \u2500\u2500\u2500\u2500\u2500\u2500\u2500\u2500\u2500\u2500\u2500\u2500\u2500, \u2500\u2500\u2500\u2500\u2500\u2500\u2500\u2500\u2500\u2500\u2500\u2500\u2500\u2500\u2500\n",
        "\u239c      4                     2\u239b   \u239b\u03c0\u22c5t\u239e\u239e              16                      \n",
        "\u239c                      4\u22c5cosh \u239csin\u239c\u2500\u2500\u2500\u239f\u239f                                      \n",
        "\u239d                             \u239d   \u239d 4 \u23a0\u23a0                                      \n",
        "\n",
        "                                    2\u239b\u03c0\u22c5t\u239e  \u239e\u239e\n",
        "                               2\u22c5cos \u239c\u2500\u2500\u2500\u239f  \u239f\u239f\n",
        "    \u239b   \u239b\u03c0\u22c5t\u239e\u239e      2\u239b\u03c0\u22c5t\u239e           \u239d 4 \u23a0  \u239f\u239f\n",
        "tanh\u239csin\u239c\u2500\u2500\u2500\u239f\u239f + cos \u239c\u2500\u2500\u2500\u239f - \u2500\u2500\u2500\u2500\u2500\u2500\u2500\u2500\u2500\u2500\u2500\u2500\u2500\u2500\u2500\u239f\u239f\n",
        "    \u239d   \u239d 4 \u23a0\u23a0       \u239d 4 \u23a0       2\u239b   \u239b\u03c0\u22c5t\u239e\u239e\u239f\u239f\n",
        "                             cosh \u239csin\u239c\u2500\u2500\u2500\u239f\u239f\u239f\u239f\n",
        "                                  \u239d   \u239d 4 \u23a0\u23a0\u23a0\u239f\n",
        "\u2500\u2500\u2500\u2500\u2500\u2500\u2500\u2500\u2500\u2500\u2500\u2500\u2500\u2500\u2500\u2500\u2500\u2500\u2500\u2500\u2500\u2500\u2500\u2500\u2500\u2500\u2500\u2500\u2500\u2500\u2500\u2500\u2500\u2500\u2500\u2500\u2500\u2500\u2500\u2500\u2500\u2500\u2500\u2500\u2500\u239f\n",
        "             \u239b   \u239b\u03c0\u22c5t\u239e\u239e                      \u239f\n",
        "      16\u22c5cosh\u239csin\u239c\u2500\u2500\u2500\u239f\u239f                      \u239f\n",
        "             \u239d   \u239d 4 \u23a0\u23a0                      \u23a0"
       ]
      }
     ],
     "prompt_number": 50
    },
    {
     "cell_type": "code",
     "collapsed": false,
     "input": [
      "curvature = (xp * ypp - yp * xpp) / (xp**2 + yp**2)**Rational(3,2)"
     ],
     "language": "python",
     "metadata": {},
     "outputs": [],
     "prompt_number": 51
    },
    {
     "cell_type": "code",
     "collapsed": false,
     "input": [
      "curvature"
     ],
     "language": "python",
     "metadata": {},
     "outputs": [
      {
       "latex": [
        "$$\\frac{1}{\\left(\\frac{\\pi^{2} a^{2} \\cos^{2}{\\left (\\frac{\\pi t}{4} \\right )} \\sinh^{2}{\\left (\\sin{\\left (\\frac{\\pi t}{4} \\right )} \\right )}}{16 \\cosh^{4}{\\left (\\sin{\\left (\\frac{\\pi t}{4} \\right )} \\right )}} + \\frac{\\pi^{2} r^{2}}{16} \\cos^{2}{\\left (\\frac{\\pi t}{4} \\right )}\\right)^{\\frac{3}{2}}} \\left(- \\frac{\\pi^{3} a r \\cos{\\left (\\frac{\\pi t}{4} \\right )}}{64 \\cosh{\\left (\\sin{\\left (\\frac{\\pi t}{4} \\right )} \\right )}} \\left(\\sin{\\left (\\frac{\\pi t}{4} \\right )} \\tanh{\\left (\\sin{\\left (\\frac{\\pi t}{4} \\right )} \\right )} + \\cos^{2}{\\left (\\frac{\\pi t}{4} \\right )} - \\frac{2 \\cos^{2}{\\left (\\frac{\\pi t}{4} \\right )}}{\\cosh^{2}{\\left (\\sin{\\left (\\frac{\\pi t}{4} \\right )} \\right )}}\\right) + \\frac{\\pi^{3} a r \\sin{\\left (\\frac{\\pi t}{4} \\right )} \\cos{\\left (\\frac{\\pi t}{4} \\right )}}{64 \\cosh^{2}{\\left (\\sin{\\left (\\frac{\\pi t}{4} \\right )} \\right )}} \\sinh{\\left (\\sin{\\left (\\frac{\\pi t}{4} \\right )} \\right )}\\right)$$"
       ],
       "metadata": {},
       "output_type": "pyout",
       "png": "[encoded data removed]",
       "prompt_number": 52,
       "text": [
        "         \u239b                                             2\u239b\u03c0\u22c5t\u239e  \u239e              \n",
        "         \u239c                                        2\u22c5cos \u239c\u2500\u2500\u2500\u239f  \u239f              \n",
        "   3     \u239c   \u239b\u03c0\u22c5t\u239e     \u239b   \u239b\u03c0\u22c5t\u239e\u239e      2\u239b\u03c0\u22c5t\u239e           \u239d 4 \u23a0  \u239f    \u239b\u03c0\u22c5t\u239e     \n",
        "  \u03c0 \u22c5a\u22c5r\u22c5\u239csin\u239c\u2500\u2500\u2500\u239f\u22c5tanh\u239csin\u239c\u2500\u2500\u2500\u239f\u239f + cos \u239c\u2500\u2500\u2500\u239f - \u2500\u2500\u2500\u2500\u2500\u2500\u2500\u2500\u2500\u2500\u2500\u2500\u2500\u2500\u2500\u239f\u22c5cos\u239c\u2500\u2500\u2500\u239f     \n",
        "         \u239c   \u239d 4 \u23a0     \u239d   \u239d 4 \u23a0\u23a0       \u239d 4 \u23a0       2\u239b   \u239b\u03c0\u22c5t\u239e\u239e\u239f    \u239d 4 \u23a0    3\n",
        "         \u239c                                      cosh \u239csin\u239c\u2500\u2500\u2500\u239f\u239f\u239f            \u03c0 \n",
        "         \u239d                                           \u239d   \u239d 4 \u23a0\u23a0\u23a0              \n",
        "- \u2500\u2500\u2500\u2500\u2500\u2500\u2500\u2500\u2500\u2500\u2500\u2500\u2500\u2500\u2500\u2500\u2500\u2500\u2500\u2500\u2500\u2500\u2500\u2500\u2500\u2500\u2500\u2500\u2500\u2500\u2500\u2500\u2500\u2500\u2500\u2500\u2500\u2500\u2500\u2500\u2500\u2500\u2500\u2500\u2500\u2500\u2500\u2500\u2500\u2500\u2500\u2500\u2500\u2500\u2500\u2500\u2500\u2500\u2500\u2500\u2500\u2500\u2500\u2500\u2500\u2500\u2500\u2500\u2500\u2500\u2500 + \u2500\u2500\n",
        "                                    \u239b   \u239b\u03c0\u22c5t\u239e\u239e                                \n",
        "                             64\u22c5cosh\u239csin\u239c\u2500\u2500\u2500\u239f\u239f                                \n",
        "                                    \u239d   \u239d 4 \u23a0\u23a0                                \n",
        "\u2500\u2500\u2500\u2500\u2500\u2500\u2500\u2500\u2500\u2500\u2500\u2500\u2500\u2500\u2500\u2500\u2500\u2500\u2500\u2500\u2500\u2500\u2500\u2500\u2500\u2500\u2500\u2500\u2500\u2500\u2500\u2500\u2500\u2500\u2500\u2500\u2500\u2500\u2500\u2500\u2500\u2500\u2500\u2500\u2500\u2500\u2500\u2500\u2500\u2500\u2500\u2500\u2500\u2500\u2500\u2500\u2500\u2500\u2500\u2500\u2500\u2500\u2500\u2500\u2500\u2500\u2500\u2500\u2500\u2500\u2500\u2500\u2500\u2500\u2500\u2500\u2500\u2500\n",
        "                                                                              \n",
        "                               \u239b 2  2    2\u239b\u03c0\u22c5t\u239e     2\u239b   \u239b\u03c0\u22c5t\u239e\u239e    2  2    2\u239b\u03c0\n",
        "                               \u239c\u03c0 \u22c5a \u22c5cos \u239c\u2500\u2500\u2500\u239f\u22c5sinh \u239csin\u239c\u2500\u2500\u2500\u239f\u239f   \u03c0 \u22c5r \u22c5cos \u239c\u2500\n",
        "                               \u239c          \u239d 4 \u23a0      \u239d   \u239d 4 \u23a0\u23a0             \u239d \n",
        "                               \u239c\u2500\u2500\u2500\u2500\u2500\u2500\u2500\u2500\u2500\u2500\u2500\u2500\u2500\u2500\u2500\u2500\u2500\u2500\u2500\u2500\u2500\u2500\u2500\u2500\u2500\u2500\u2500\u2500\u2500\u2500\u2500 + \u2500\u2500\u2500\u2500\u2500\u2500\u2500\u2500\u2500\u2500\u2500\u2500\n",
        "                               \u239c              4\u239b   \u239b\u03c0\u22c5t\u239e\u239e                16   \n",
        "                               \u239c       16\u22c5cosh \u239csin\u239c\u2500\u2500\u2500\u239f\u239f                     \n",
        "                               \u239d               \u239d   \u239d 4 \u23a0\u23a0                     \n",
        "\n",
        "                                     \n",
        "                                     \n",
        "                                     \n",
        "                                     \n",
        "        \u239b\u03c0\u22c5t\u239e    \u239b\u03c0\u22c5t\u239e     \u239b   \u239b\u03c0\u22c5t\u239e\u239e\n",
        "\u22c5a\u22c5r\u22c5sin\u239c\u2500\u2500\u2500\u239f\u22c5cos\u239c\u2500\u2500\u2500\u239f\u22c5sinh\u239csin\u239c\u2500\u2500\u2500\u239f\u239f\n",
        "        \u239d 4 \u23a0    \u239d 4 \u23a0     \u239d   \u239d 4 \u23a0\u23a0\n",
        "\u2500\u2500\u2500\u2500\u2500\u2500\u2500\u2500\u2500\u2500\u2500\u2500\u2500\u2500\u2500\u2500\u2500\u2500\u2500\u2500\u2500\u2500\u2500\u2500\u2500\u2500\u2500\u2500\u2500\u2500\u2500\u2500\u2500\u2500\u2500\u2500\u2500\n",
        "                2\u239b   \u239b\u03c0\u22c5t\u239e\u239e          \n",
        "         64\u22c5cosh \u239csin\u239c\u2500\u2500\u2500\u239f\u239f          \n",
        "                 \u239d   \u239d 4 \u23a0\u23a0          \n",
        "\u2500\u2500\u2500\u2500\u2500\u2500\u2500\u2500\u2500\u2500\u2500\u2500\u2500\u2500\u2500\u2500\u2500\u2500\u2500\u2500\u2500\u2500\u2500\u2500\u2500\u2500\u2500\u2500\u2500\u2500\u2500\u2500\u2500\u2500\u2500\u2500\u2500\n",
        "    3/2                              \n",
        "\u22c5t\u239e\u239e                                 \n",
        "\u2500\u2500\u239f\u239f                                 \n",
        "4 \u23a0\u239f                                 \n",
        "\u2500\u2500\u2500\u239f                                 \n",
        "   \u239f                                 \n",
        "   \u239f                                 \n",
        "   \u23a0                                 "
       ]
      }
     ],
     "prompt_number": 52
    },
    {
     "cell_type": "code",
     "collapsed": false,
     "input": [
      "curvature.simplify()"
     ],
     "language": "python",
     "metadata": {},
     "outputs": [
      {
       "latex": [
        "$$- \\frac{a r \\left(1 - \\frac{2}{\\cosh^{2}{\\left (\\sin{\\left (\\frac{\\pi t}{4} \\right )} \\right )}}\\right) \\cos^{3}{\\left (\\frac{\\pi t}{4} \\right )}}{\\left(\\left(\\frac{a^{2} \\sinh^{2}{\\left (\\sin{\\left (\\frac{\\pi t}{4} \\right )} \\right )}}{\\cosh^{4}{\\left (\\sin{\\left (\\frac{\\pi t}{4} \\right )} \\right )}} + r^{2}\\right) \\cos^{2}{\\left (\\frac{\\pi t}{4} \\right )}\\right)^{\\frac{3}{2}} \\cosh{\\left (\\sin{\\left (\\frac{\\pi t}{4} \\right )} \\right )}}$$"
       ],
       "metadata": {},
       "output_type": "pyout",
       "png": "[encoded data removed]",
       "prompt_number": 53,
       "text": [
        "              \u239b           2       \u239e    3\u239b\u03c0\u22c5t\u239e          \n",
        "         -a\u22c5r\u22c5\u239c1 - \u2500\u2500\u2500\u2500\u2500\u2500\u2500\u2500\u2500\u2500\u2500\u2500\u2500\u2500\u2500\u239f\u22c5cos \u239c\u2500\u2500\u2500\u239f          \n",
        "              \u239c        2\u239b   \u239b\u03c0\u22c5t\u239e\u239e\u239f     \u239d 4 \u23a0          \n",
        "              \u239c    cosh \u239csin\u239c\u2500\u2500\u2500\u239f\u239f\u239f                    \n",
        "              \u239d         \u239d   \u239d 4 \u23a0\u23a0\u23a0                    \n",
        "\u2500\u2500\u2500\u2500\u2500\u2500\u2500\u2500\u2500\u2500\u2500\u2500\u2500\u2500\u2500\u2500\u2500\u2500\u2500\u2500\u2500\u2500\u2500\u2500\u2500\u2500\u2500\u2500\u2500\u2500\u2500\u2500\u2500\u2500\u2500\u2500\u2500\u2500\u2500\u2500\u2500\u2500\u2500\u2500\u2500\u2500\u2500\u2500\u2500\u2500\u2500\u2500\u2500\u2500\u2500\n",
        "                                     3/2               \n",
        "\u239b\u239b 2     2\u239b   \u239b\u03c0\u22c5t\u239e\u239e     \u239e          \u239e                  \n",
        "\u239c\u239ca \u22c5sinh \u239csin\u239c\u2500\u2500\u2500\u239f\u239f     \u239f          \u239f                  \n",
        "\u239c\u239c        \u239d   \u239d 4 \u23a0\u23a0    2\u239f    2\u239b\u03c0\u22c5t\u239e\u239f        \u239b   \u239b\u03c0\u22c5t\u239e\u239e\n",
        "\u239c\u239c\u2500\u2500\u2500\u2500\u2500\u2500\u2500\u2500\u2500\u2500\u2500\u2500\u2500\u2500\u2500\u2500\u2500\u2500 + r \u239f\u22c5cos \u239c\u2500\u2500\u2500\u239f\u239f   \u22c5cosh\u239csin\u239c\u2500\u2500\u2500\u239f\u239f\n",
        "\u239c\u239c     4\u239b   \u239b\u03c0\u22c5t\u239e\u239e       \u239f     \u239d 4 \u23a0\u239f        \u239d   \u239d 4 \u23a0\u23a0\n",
        "\u239c\u239c cosh \u239csin\u239c\u2500\u2500\u2500\u239f\u239f       \u239f          \u239f                  \n",
        "\u239d\u239d      \u239d   \u239d 4 \u23a0\u23a0       \u23a0          \u23a0                  "
       ]
      }
     ],
     "prompt_number": 53
    },
    {
     "cell_type": "code",
     "collapsed": false,
     "input": [
      "equa = r*cosh(a*t) - 1/curvature"
     ],
     "language": "python",
     "metadata": {},
     "outputs": [],
     "prompt_number": 54
    },
    {
     "cell_type": "code",
     "collapsed": false,
     "input": [
      "equa.simplify()"
     ],
     "language": "python",
     "metadata": {},
     "outputs": [
      {
       "latex": [
        "$$\\frac{a r^{2} \\left(- \\left(\\sin{\\left (\\frac{\\pi t}{4} \\right )} \\tanh{\\left (\\sin{\\left (\\frac{\\pi t}{4} \\right )} \\right )} + \\cos^{2}{\\left (\\frac{\\pi t}{4} \\right )}\\right) \\cosh^{2}{\\left (\\sin{\\left (\\frac{\\pi t}{4} \\right )} \\right )} + \\sin{\\left (\\frac{\\pi t}{4} \\right )} \\sinh{\\left (\\sin{\\left (\\frac{\\pi t}{4} \\right )} \\right )} \\cosh{\\left (\\sin{\\left (\\frac{\\pi t}{4} \\right )} \\right )} + 2 \\cos^{2}{\\left (\\frac{\\pi t}{4} \\right )}\\right) \\cos{\\left (\\frac{\\pi t}{4} \\right )} \\cosh{\\left (a t \\right )} - \\left(\\left(\\frac{a^{2} \\sinh^{2}{\\left (\\sin{\\left (\\frac{\\pi t}{4} \\right )} \\right )}}{\\cosh^{4}{\\left (\\sin{\\left (\\frac{\\pi t}{4} \\right )} \\right )}} + r^{2}\\right) \\cos^{2}{\\left (\\frac{\\pi t}{4} \\right )}\\right)^{\\frac{3}{2}} \\cosh^{3}{\\left (\\sin{\\left (\\frac{\\pi t}{4} \\right )} \\right )}}{a r \\left(- \\left(\\sin{\\left (\\frac{\\pi t}{4} \\right )} \\tanh{\\left (\\sin{\\left (\\frac{\\pi t}{4} \\right )} \\right )} + \\cos^{2}{\\left (\\frac{\\pi t}{4} \\right )}\\right) \\cosh^{2}{\\left (\\sin{\\left (\\frac{\\pi t}{4} \\right )} \\right )} + \\sin{\\left (\\frac{\\pi t}{4} \\right )} \\sinh{\\left (\\sin{\\left (\\frac{\\pi t}{4} \\right )} \\right )} \\cosh{\\left (\\sin{\\left (\\frac{\\pi t}{4} \\right )} \\right )} + 2 \\cos^{2}{\\left (\\frac{\\pi t}{4} \\right )}\\right) \\cos{\\left (\\frac{\\pi t}{4} \\right )}}$$"
       ],
       "metadata": {},
       "output_type": "pyout",
       "png": "[encoded data removed]",
       "prompt_number": 55,
       "text": [
        "                                                                              \n",
        "                                                                              \n",
        "                                                                              \n",
        "   2 \u239b  \u239b   \u239b\u03c0\u22c5t\u239e     \u239b   \u239b\u03c0\u22c5t\u239e\u239e      2\u239b\u03c0\u22c5t\u239e\u239e     2\u239b   \u239b\u03c0\u22c5t\u239e\u239e      \u239b\u03c0\u22c5t\u239e     \u239b\n",
        "a\u22c5r \u22c5\u239c- \u239csin\u239c\u2500\u2500\u2500\u239f\u22c5tanh\u239csin\u239c\u2500\u2500\u2500\u239f\u239f + cos \u239c\u2500\u2500\u2500\u239f\u239f\u22c5cosh \u239csin\u239c\u2500\u2500\u2500\u239f\u239f + sin\u239c\u2500\u2500\u2500\u239f\u22c5sinh\u239c\n",
        "     \u239d  \u239d   \u239d 4 \u23a0     \u239d   \u239d 4 \u23a0\u23a0       \u239d 4 \u23a0\u23a0      \u239d   \u239d 4 \u23a0\u23a0      \u239d 4 \u23a0     \u239d\n",
        "                                                                              \n",
        "                                                                              \n",
        "\u2500\u2500\u2500\u2500\u2500\u2500\u2500\u2500\u2500\u2500\u2500\u2500\u2500\u2500\u2500\u2500\u2500\u2500\u2500\u2500\u2500\u2500\u2500\u2500\u2500\u2500\u2500\u2500\u2500\u2500\u2500\u2500\u2500\u2500\u2500\u2500\u2500\u2500\u2500\u2500\u2500\u2500\u2500\u2500\u2500\u2500\u2500\u2500\u2500\u2500\u2500\u2500\u2500\u2500\u2500\u2500\u2500\u2500\u2500\u2500\u2500\u2500\u2500\u2500\u2500\u2500\u2500\u2500\u2500\u2500\u2500\u2500\u2500\u2500\u2500\u2500\u2500\u2500\n",
        "                                       \u239b  \u239b   \u239b\u03c0\u22c5t\u239e     \u239b   \u239b\u03c0\u22c5t\u239e\u239e      2\u239b\u03c0\u22c5t\u239e\n",
        "                                   a\u22c5r\u22c5\u239c- \u239csin\u239c\u2500\u2500\u2500\u239f\u22c5tanh\u239csin\u239c\u2500\u2500\u2500\u239f\u239f + cos \u239c\u2500\u2500\u2500\u239f\n",
        "                                       \u239d  \u239d   \u239d 4 \u23a0     \u239d   \u239d 4 \u23a0\u23a0       \u239d 4 \u23a0\n",
        "\n",
        "                                                                              \n",
        "                                                             \u239b\u239b 2     2\u239b   \u239b\u03c0\u22c5\n",
        "                                                             \u239c\u239ca \u22c5sinh \u239csin\u239c\u2500\u2500\n",
        "   \u239b\u03c0\u22c5t\u239e\u239e     \u239b   \u239b\u03c0\u22c5t\u239e\u239e        2\u239b\u03c0\u22c5t\u239e\u239e    \u239b\u03c0\u22c5t\u239e             \u239c\u239c        \u239d   \u239d 4\n",
        "sin\u239c\u2500\u2500\u2500\u239f\u239f\u22c5cosh\u239csin\u239c\u2500\u2500\u2500\u239f\u239f + 2\u22c5cos \u239c\u2500\u2500\u2500\u239f\u239f\u22c5cos\u239c\u2500\u2500\u2500\u239f\u22c5cosh(a\u22c5t) - \u239c\u239c\u2500\u2500\u2500\u2500\u2500\u2500\u2500\u2500\u2500\u2500\u2500\u2500\u2500\u2500\u2500\n",
        "   \u239d 4 \u23a0\u23a0     \u239d   \u239d 4 \u23a0\u23a0         \u239d 4 \u23a0\u23a0    \u239d 4 \u23a0             \u239c\u239c     4\u239b   \u239b\u03c0\u22c5t\u239e\n",
        "                                                             \u239c\u239c cosh \u239csin\u239c\u2500\u2500\u2500\u239f\n",
        "                                                             \u239d\u239d      \u239d   \u239d 4 \u23a0\n",
        "\u2500\u2500\u2500\u2500\u2500\u2500\u2500\u2500\u2500\u2500\u2500\u2500\u2500\u2500\u2500\u2500\u2500\u2500\u2500\u2500\u2500\u2500\u2500\u2500\u2500\u2500\u2500\u2500\u2500\u2500\u2500\u2500\u2500\u2500\u2500\u2500\u2500\u2500\u2500\u2500\u2500\u2500\u2500\u2500\u2500\u2500\u2500\u2500\u2500\u2500\u2500\u2500\u2500\u2500\u2500\u2500\u2500\u2500\u2500\u2500\u2500\u2500\u2500\u2500\u2500\u2500\u2500\u2500\u2500\u2500\u2500\u2500\u2500\u2500\u2500\u2500\u2500\u2500\n",
        "\u239e     2\u239b   \u239b\u03c0\u22c5t\u239e\u239e      \u239b\u03c0\u22c5t\u239e     \u239b   \u239b\u03c0\u22c5t\u239e\u239e     \u239b   \u239b\u03c0\u22c5t\u239e\u239e        2\u239b\u03c0\u22c5t\u239e\u239e    \u239b\n",
        "\u239f\u22c5cosh \u239csin\u239c\u2500\u2500\u2500\u239f\u239f + sin\u239c\u2500\u2500\u2500\u239f\u22c5sinh\u239csin\u239c\u2500\u2500\u2500\u239f\u239f\u22c5cosh\u239csin\u239c\u2500\u2500\u2500\u239f\u239f + 2\u22c5cos \u239c\u2500\u2500\u2500\u239f\u239f\u22c5cos\u239c\n",
        "\u23a0      \u239d   \u239d 4 \u23a0\u23a0      \u239d 4 \u23a0     \u239d   \u239d 4 \u23a0\u23a0     \u239d   \u239d 4 \u23a0\u23a0         \u239d 4 \u23a0\u23a0    \u239d\n",
        "\n",
        "                    3/2                \n",
        "t\u239e\u239e     \u239e          \u239e                   \n",
        "\u2500\u239f\u239f     \u239f          \u239f                   \n",
        " \u23a0\u23a0    2\u239f    2\u239b\u03c0\u22c5t\u239e\u239f        3\u239b   \u239b\u03c0\u22c5t\u239e\u239e\n",
        "\u2500\u2500\u2500 + r \u239f\u22c5cos \u239c\u2500\u2500\u2500\u239f\u239f   \u22c5cosh \u239csin\u239c\u2500\u2500\u2500\u239f\u239f\n",
        "\u239e       \u239f     \u239d 4 \u23a0\u239f         \u239d   \u239d 4 \u23a0\u23a0\n",
        "\u239f       \u239f          \u239f                   \n",
        "\u23a0       \u23a0          \u23a0                   \n",
        "\u2500\u2500\u2500\u2500\u2500\u2500\u2500\u2500\u2500\u2500\u2500\u2500\u2500\u2500\u2500\u2500\u2500\u2500\u2500\u2500\u2500\u2500\u2500\u2500\u2500\u2500\u2500\u2500\u2500\u2500\u2500\u2500\u2500\u2500\u2500\u2500\u2500\u2500\u2500\n",
        "\u03c0\u22c5t\u239e                                   \n",
        "\u2500\u2500\u2500\u239f                                   \n",
        " 4 \u23a0                                   "
       ]
      }
     ],
     "prompt_number": 55
    },
    {
     "cell_type": "code",
     "collapsed": false,
     "input": [
      "u = symbols('u')\n",
      "diff(1/cosh(a*u), u)"
     ],
     "language": "python",
     "metadata": {},
     "outputs": [
      {
       "latex": [
        "$$- \\frac{a \\sinh{\\left (a u \\right )}}{\\cosh^{2}{\\left (a u \\right )}}$$"
       ],
       "metadata": {},
       "output_type": "pyout",
       "png": "[encoded data removed]",
       "prompt_number": 56,
       "text": [
        "-a\u22c5sinh(a\u22c5u) \n",
        "\u2500\u2500\u2500\u2500\u2500\u2500\u2500\u2500\u2500\u2500\u2500\u2500\u2500\n",
        "      2      \n",
        "  cosh (a\u22c5u) "
       ]
      }
     ],
     "prompt_number": 56
    },
    {
     "cell_type": "code",
     "collapsed": false,
     "input": [
      "sinh(-u)"
     ],
     "language": "python",
     "metadata": {},
     "outputs": [
      {
       "latex": [
        "$$- \\sinh{\\left (u \\right )}$$"
       ],
       "metadata": {},
       "output_type": "pyout",
       "png": "[encoded data removed]",
       "prompt_number": 23,
       "text": [
        "-sinh(u)"
       ]
      }
     ],
     "prompt_number": 23
    },
    {
     "cell_type": "code",
     "collapsed": false,
     "input": [
      "cosh(-u)"
     ],
     "language": "python",
     "metadata": {},
     "outputs": [
      {
       "latex": [
        "$$\\cosh{\\left (u \\right )}$$"
       ],
       "metadata": {},
       "output_type": "pyout",
       "png": "[encoded data removed]",
       "prompt_number": 27,
       "text": [
        "cosh(u)"
       ]
      }
     ],
     "prompt_number": 27
    },
    {
     "cell_type": "code",
     "collapsed": false,
     "input": [
      "1/cosh(-sqrt(2)/2)"
     ],
     "language": "python",
     "metadata": {},
     "outputs": [
      {
       "latex": [
        "$$\\frac{1}{\\cosh{\\left (\\frac{\\sqrt{2}}{2} \\right )}}$$"
       ],
       "metadata": {},
       "output_type": "pyout",
       "png": "[encoded data removed]",
       "prompt_number": 58,
       "text": [
        "     1     \n",
        "\u2500\u2500\u2500\u2500\u2500\u2500\u2500\u2500\u2500\u2500\u2500\n",
        "    \u239b  ___\u239e\n",
        "    \u239c\u2572\u2571 2 \u239f\n",
        "cosh\u239c\u2500\u2500\u2500\u2500\u2500\u239f\n",
        "    \u239d  2  \u23a0"
       ]
      }
     ],
     "prompt_number": 58
    },
    {
     "cell_type": "code",
     "collapsed": false,
     "input": [
      "f = Function('f')(t)\n",
      "diff(a/cosh(f/r)+b, t)"
     ],
     "language": "python",
     "metadata": {},
     "outputs": [
      {
       "latex": [
        "$$- \\frac{a \\sinh{\\left (\\frac{1}{r} f{\\left (t \\right )} \\right )} \\frac{d}{d t} f{\\left (t \\right )}}{r \\cosh^{2}{\\left (\\frac{1}{r} f{\\left (t \\right )} \\right )}}$$"
       ],
       "metadata": {},
       "output_type": "pyout",
       "png": "[encoded data removed]",
       "prompt_number": 64,
       "text": [
        "       \u239bf(t)\u239e d        \n",
        "-a\u22c5sinh\u239c\u2500\u2500\u2500\u2500\u239f\u22c5\u2500\u2500(f(t)) \n",
        "       \u239d r  \u23a0 dt       \n",
        "\u2500\u2500\u2500\u2500\u2500\u2500\u2500\u2500\u2500\u2500\u2500\u2500\u2500\u2500\u2500\u2500\u2500\u2500\u2500\u2500\u2500\u2500\u2500\n",
        "           2\u239bf(t)\u239e     \n",
        "     r\u22c5cosh \u239c\u2500\u2500\u2500\u2500\u239f     \n",
        "            \u239d r  \u23a0     "
       ]
      }
     ],
     "prompt_number": 64
    },
    {
     "cell_type": "code",
     "collapsed": false,
     "input": [
      "diff(-r*sin(t*pi/4),t)"
     ],
     "language": "python",
     "metadata": {},
     "outputs": [
      {
       "latex": [
        "$$- \\frac{\\pi r}{4} \\cos{\\left (\\frac{\\pi t}{4} \\right )}$$"
       ],
       "metadata": {},
       "output_type": "pyout",
       "png": "[encoded data removed]",
       "prompt_number": 70,
       "text": [
        "        \u239b\u03c0\u22c5t\u239e \n",
        "-\u03c0\u22c5r\u22c5cos\u239c\u2500\u2500\u2500\u239f \n",
        "        \u239d 4 \u23a0 \n",
        "\u2500\u2500\u2500\u2500\u2500\u2500\u2500\u2500\u2500\u2500\u2500\u2500\u2500\u2500\n",
        "      4       "
       ]
      }
     ],
     "prompt_number": 70
    },
    {
     "cell_type": "code",
     "collapsed": false,
     "input": [
      "cosh(a)**2/sinh(a)"
     ],
     "language": "python",
     "metadata": {},
     "outputs": [
      {
       "latex": [
        "$$\\frac{\\cosh^{2}{\\left (a \\right )}}{\\sinh{\\left (a \\right )}}$$"
       ],
       "metadata": {},
       "output_type": "pyout",
       "png": "[encoded data removed]",
       "prompt_number": 71,
       "text": [
        "    2   \n",
        "cosh (a)\n",
        "\u2500\u2500\u2500\u2500\u2500\u2500\u2500\u2500\n",
        "sinh(a) "
       ]
      }
     ],
     "prompt_number": 71
    },
    {
     "cell_type": "code",
     "collapsed": false,
     "input": [
      "expand(_)"
     ],
     "language": "python",
     "metadata": {},
     "outputs": [
      {
       "latex": [
        "$$\\frac{\\cosh^{2}{\\left (a \\right )}}{\\sinh{\\left (a \\right )}}$$"
       ],
       "metadata": {},
       "output_type": "pyout",
       "png": "[encoded data removed]",
       "prompt_number": 74,
       "text": [
        "    2   \n",
        "cosh (a)\n",
        "\u2500\u2500\u2500\u2500\u2500\u2500\u2500\u2500\n",
        "sinh(a) "
       ]
      }
     ],
     "prompt_number": 74
    },
    {
     "cell_type": "code",
     "collapsed": false,
     "input": [
      "cosh(sqrt(2)/2)"
     ],
     "language": "python",
     "metadata": {},
     "outputs": [
      {
       "latex": [
        "$$\\cosh{\\left (\\frac{\\sqrt{2}}{2} \\right )}$$"
       ],
       "metadata": {},
       "output_type": "pyout",
       "png": "[encoded data removed]",
       "prompt_number": 77,
       "text": [
        "    \u239b  ___\u239e\n",
        "    \u239c\u2572\u2571 2 \u239f\n",
        "cosh\u239c\u2500\u2500\u2500\u2500\u2500\u239f\n",
        "    \u239d  2  \u23a0"
       ]
      }
     ],
     "prompt_number": 77
    },
    {
     "cell_type": "code",
     "collapsed": false,
     "input": [],
     "language": "python",
     "metadata": {},
     "outputs": []
    }
   ],
   "metadata": {}
  }
 ]
}