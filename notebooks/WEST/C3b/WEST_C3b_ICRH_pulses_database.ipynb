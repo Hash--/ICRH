{
 "cells": [
  {
   "cell_type": "markdown",
   "metadata": {},
   "source": [
    "In this notebook we generate a database of the pulse in which ICRH has been used. \n",
    "\n",
    "In theory, the IRFM GED could be used for that... In theory."
   ]
  },
  {
   "cell_type": "code",
   "execution_count": 1,
   "metadata": {},
   "outputs": [],
   "source": [
    "import pywed as pw\n",
    "import numpy as np\n",
    "from IRFMtb import tsdernier_choc"
   ]
  },
  {
   "cell_type": "code",
   "execution_count": 2,
   "metadata": {},
   "outputs": [],
   "source": [
    "import matplotlib.pyplot as plt \n",
    "from scipy.signal import savgol_filter"
   ]
  },
  {
   "cell_type": "code",
   "execution_count": 3,
   "metadata": {},
   "outputs": [],
   "source": [
    "pulse_start = 53550  # first plasma with IC for W3b (tbc)\n",
    "pulse_end = tsdernier_choc()\n",
    "pulses = np.arange(pulse_start, pulse_end)"
   ]
  },
  {
   "cell_type": "code",
   "execution_count": 4,
   "metadata": {},
   "outputs": [
    {
     "data": {
      "text/plain": [
       "53844"
      ]
     },
     "execution_count": 4,
     "metadata": {},
     "output_type": "execute_result"
    }
   ],
   "source": [
    "pulses[-1]"
   ]
  },
  {
   "cell_type": "code",
   "execution_count": 5,
   "metadata": {},
   "outputs": [
    {
     "name": "stdout",
     "output_type": "stream",
     "text": [
      "You're asking a lot of data, please wait\n"
     ]
    }
   ],
   "source": [
    "pulse_list, Ptot_max = [], []\n",
    "\n",
    "# try to read the total injected power for every pulse. \n",
    "# Keep only the pulse numbers where the data exist \n",
    "for pulse in pulses:\n",
    "    try:\n",
    "        Ptot, t = pw.tsbase(int(pulse), 'SICHPTOT', nargout=2)\n",
    "        \n",
    "        pulse_list.append(pulse)\n",
    "        Ptot_max.append(np.amax(Ptot))\n",
    "        \n",
    "    except pw.PyWEDException as e:\n",
    "        pass\n",
    "\n",
    "np.save('WESTC3b_pulse_list.csv', pulse_list)"
   ]
  },
  {
   "cell_type": "code",
   "execution_count": 6,
   "metadata": {},
   "outputs": [
    {
     "data": {
      "text/plain": [
       "[<matplotlib.lines.Line2D at 0x8e21438>]"
      ]
     },
     "execution_count": 6,
     "metadata": {},
     "output_type": "execute_result"
    },
    {
     "data": {
      "image/png": "[encoded data removed]",
      "text/plain": [
       "<Figure size 432x288 with 1 Axes>"
      ]
     },
     "metadata": {},
     "output_type": "display_data"
    }
   ],
   "source": [
    "fig, ax = plt.subplots()\n",
    "ax.plot(pulse_list, Ptot_max, '.')"
   ]
  },
  {
   "cell_type": "code",
   "execution_count": 7,
   "metadata": {},
   "outputs": [],
   "source": [
    "def smooth(y):\n",
    "    return savgol_filter(y, 51, 3)"
   ]
  },
  {
   "cell_type": "code",
   "execution_count": 29,
   "metadata": {},
   "outputs": [],
   "source": [
    "def filter_data(y, t, thres_min=0, thres_max=1e9, dt=0.2):\n",
    "    \" find and replace non-physical values by NaN \"\n",
    "    t2 = np.where(y > thres_min, t, np.NaN)\n",
    "    y2 = np.where(y > thres_min, y, np.NaN)\n",
    "    \n",
    "    t2 = np.where(y < thres_max, t2, np.NaN)\n",
    "    y2 = np.where(y < thres_max, y2, np.NaN)\n",
    "\n",
    "    \" find and replace data to tmin+dt and tmax-dt\"\n",
    "    #idx = np.where(~np.isnan(t2))\n",
    "    #if np.any(idx):\n",
    "    #    print(idx)\n",
    "    #    t2 = t2[np.where((t2 > t2[idx][0] + dt) & (t2 < t2[idx][-1] - dt))]\n",
    "    #    y2 = y2[np.where((t2 > t2[idx][0] + dt) & (t2 < t2[idx][-1] - dt))]\n",
    "    \n",
    "    return y2, t2"
   ]
  },
  {
   "cell_type": "code",
   "execution_count": 9,
   "metadata": {},
   "outputs": [],
   "source": [
    "def get_sig(pulse, signame):\n",
    "    y, t = pw.tsbase(pulse, signame, nargout=2)\n",
    "    return y, t"
   ]
  },
  {
   "cell_type": "code",
   "execution_count": 10,
   "metadata": {},
   "outputs": [],
   "source": [
    "def get_Ptot_min_avg_max(pulse):\n",
    "    Ptot, t = get_Ptot(pulse)\n",
    "    Ptot, t = filter_sig(Ptot, t, thres_min=50)\n",
    "    if t.any():\n",
    "        Ptot, t = filter_time(Ptot, t)\n",
    "    return get_min_avg_max(Ptot)\n",
    "\n",
    "def get_min_avg_max(y):\n",
    "    if y.any():\n",
    "        return [np.nanmin(y), np.nanmean(y), np.nanmax(y)]\n",
    "    else:\n",
    "        return [np.nan, np.nan, np.nan]"
   ]
  },
  {
   "cell_type": "code",
   "execution_count": 11,
   "metadata": {},
   "outputs": [
    {
     "name": "stdout",
     "output_type": "stream",
     "text": [
      "You're asking a lot of data, please wait\n"
     ]
    }
   ],
   "source": [
    "# populates the database\n",
    "data = {}\n",
    "\n",
    "for pulse in pulse_list:\n",
    "    pulse = int(pulse)\n",
    "\n",
    "    # Q1\n",
    "    Rc, t = get_sig(pulse, 'GICHCOUPRES%1')    \n",
    "    left = {'Rc': Rc, 't': t}\n",
    "    \n",
    "    Rc, t = get_sig(pulse, 'GICHCOUPRES%2')   \n",
    "    right = {'Rc': Rc, 't': t}\n",
    "    \n",
    "    Q1 = {'left': left, \n",
    "          'right': right}\n",
    "    # Q2\n",
    "    Rc, t = get_sig(pulse, 'GICHCOUPRES%3')    \n",
    "    left = {'Rc': Rc, 't': t}\n",
    "    \n",
    "    Rc, t = get_sig(pulse, 'GICHCOUPRES%4')   \n",
    "    right = {'Rc': Rc, 't': t}\n",
    "    \n",
    "    Q2 = {'left': left, \n",
    "          'right': right}\n",
    "    \n",
    "    Ptot, t = get_sig(pulse, 'SICHPTOT')\n",
    "    \n",
    "    data[pulse] = {'Q1': Q1, \n",
    "                   'Q2': Q2, \n",
    "                   'Ptot_max': np.nanmax(Ptot), \n",
    "                   'Ptot': Ptot, 't': t}\n",
    "# TODO try better storage format\n",
    "np.savez('data.npz', data)"
   ]
  },
  {
   "cell_type": "code",
   "execution_count": 43,
   "metadata": {},
   "outputs": [],
   "source": [
    "def get_Rc(data, pulse, antenna='Q1', side='left'):\n",
    "    Rc, t = data[pulse][antenna][side]['Rc'], data[pulse][antenna][side]['t']\n",
    "    if np.all(Rc < 0.1):\n",
    "        return np.nan, np.nan\n",
    "    else:\n",
    "        Rc, t = filter_data(Rc, t, thres_min=0.05, thres_max=3)\n",
    "        #Rc = smooth(Rc)\n",
    "        return Rc, t\n",
    "\n",
    "def get_max_Rc(data, pulse, antenna='Q1', side='left'):\n",
    "    Rc, t =  get_Rc(data, pulse, antenna, side)\n",
    "    if np.any(Rc):\n",
    "        return np.nanmax(Rc)\n",
    "    else: \n",
    "        return np.nan"
   ]
  },
  {
   "cell_type": "code",
   "execution_count": null,
   "metadata": {},
   "outputs": [],
   "source": []
  },
  {
   "cell_type": "code",
   "execution_count": 44,
   "metadata": {},
   "outputs": [
    {
     "data": {
      "text/plain": [
       "0.1170000055572018"
      ]
     },
     "execution_count": 44,
     "metadata": {},
     "output_type": "execute_result"
    }
   ],
   "source": [
    "get_max_Rc(data, 53706, antenna='Q2', side='right')"
   ]
  },
  {
   "cell_type": "code",
   "execution_count": 45,
   "metadata": {},
   "outputs": [
    {
     "name": "stderr",
     "output_type": "stream",
     "text": [
      "C:\\Users\\JH218595\\AppData\\Local\\Continuum\\Anaconda3\\lib\\site-packages\\ipykernel_launcher.py:13: RuntimeWarning: All-NaN slice encountered\n",
      "  del sys.path[0]\n",
      "C:\\Users\\JH218595\\AppData\\Local\\Continuum\\Anaconda3\\lib\\site-packages\\ipykernel_launcher.py:13: RuntimeWarning: All-NaN axis encountered\n",
      "  del sys.path[0]\n"
     ]
    }
   ],
   "source": [
    "Rc_data = []\n",
    "\n",
    "for pulse in data:\n",
    "    Rc_Q1_left = get_max_Rc(data, pulse, antenna='Q1', side='left')\n",
    "    Rc_Q1_right = get_max_Rc(data, pulse, antenna='Q1', side='right')\n",
    "    Rc_Q2_left = get_max_Rc(data, pulse, antenna='Q2', side='left')\n",
    "    Rc_Q2_right = get_max_Rc(data, pulse, antenna='Q2', side='right')\n",
    "    Rc_data.append([Rc_Q1_left, Rc_Q1_right, Rc_Q2_left, Rc_Q2_right])"
   ]
  },
  {
   "cell_type": "code",
   "execution_count": 46,
   "metadata": {},
   "outputs": [],
   "source": [
    "pulses = np.array(list(data.keys()))\n",
    "Rcs = np.array(Rc_data)"
   ]
  },
  {
   "cell_type": "code",
   "execution_count": 62,
   "metadata": {},
   "outputs": [],
   "source": [
    "Rc_Q1 = np.mean(Rcs[:,0:2], axis=1)\n",
    "Rc_Q2 = np.mean(Rcs[:,2:], axis=1)"
   ]
  },
  {
   "cell_type": "code",
   "execution_count": 73,
   "metadata": {},
   "outputs": [
    {
     "data": {
      "text/plain": [
       "(0, 1.5)"
      ]
     },
     "execution_count": 73,
     "metadata": {},
     "output_type": "execute_result"
    },
    {
     "data": {
      "image/png": "[encoded data removed]",
      "text/plain": [
       "<Figure size 432x288 with 1 Axes>"
      ]
     },
     "metadata": {},
     "output_type": "display_data"
    }
   ],
   "source": [
    "fig, ax = plt.subplots()\n",
    "ax.plot(pulses, Rc_Q1, '.', ms=10, label='Q1') \n",
    "ax.plot(pulses, Rc_Q2, '.', ms=10, label='Q2')\n",
    "ax.set_xlabel('Pulse #', fontsize=12)\n",
    "ax.set_ylabel('Coupling Resistance [$\\Omega$]', fontsize=12)\n",
    "ax.grid(True)\n",
    "ax.legend(fontsize=14, loc='upper right')\n",
    "ax.set_ylim(0, 1.5)"
   ]
  },
  {
   "cell_type": "code",
   "execution_count": 39,
   "metadata": {},
   "outputs": [
    {
     "data": {
      "text/plain": [
       "array([[       nan,        nan,        nan,        nan],\n",
       "       [       nan,        nan,        nan,        nan],\n",
       "       [       nan,        nan,        nan,        nan],\n",
       "       [       nan,        nan,        nan,        nan],\n",
       "       [       nan,        nan,        nan,        nan],\n",
       "       [       nan,        nan,        nan,        nan],\n",
       "       [       nan,        nan,        nan,        nan],\n",
       "       [       nan,        nan,        nan,        nan],\n",
       "       [       nan,        nan,        nan,        nan],\n",
       "       [       nan,        nan,        nan,        nan],\n",
       "       [0.18700001, 0.18700001, 0.18700001, 0.18700001],\n",
       "       [0.16100001, 0.16100001, 0.16100001, 0.16100001],\n",
       "       [       nan,        nan,        nan,        nan],\n",
       "       [       nan,        nan,        nan,        nan],\n",
       "       [       nan,        nan,        nan,        nan],\n",
       "       [       nan,        nan,        nan,        nan],\n",
       "       [       nan,        nan,        nan,        nan],\n",
       "       [       nan,        nan,        nan,        nan],\n",
       "       [       nan,        nan,        nan,        nan],\n",
       "       [       nan,        nan,        nan,        nan],\n",
       "       [       nan,        nan,        nan,        nan],\n",
       "       [0.15000001, 0.15000001, 0.15000001, 0.15000001],\n",
       "       [0.35200002, 0.35200002, 0.35200002, 0.35200002],\n",
       "       [0.35300002, 0.35300002, 0.35300002, 0.35300002],\n",
       "       [0.35400002, 0.35400002, 0.35400002, 0.35400002],\n",
       "       [0.66900003, 0.66900003, 0.66900003, 0.66900003],\n",
       "       [0.35200002, 0.35200002, 0.35200002, 0.35200002],\n",
       "       [0.74200004, 0.74200004, 0.74200004, 0.74200004],\n",
       "       [       nan,        nan,        nan,        nan],\n",
       "       [       nan,        nan,        nan,        nan],\n",
       "       [       nan,        nan,        nan,        nan],\n",
       "       [0.92400004, 0.92400004, 0.92400004, 0.92400004],\n",
       "       [0.63800003, 0.63800003, 0.63800003, 0.63800003],\n",
       "       [1.12200005, 1.12200005, 1.12200005, 1.12200005],\n",
       "       [0.66100003, 0.66100003, 0.66100003, 0.66100003],\n",
       "       [       nan,        nan,        nan,        nan],\n",
       "       [0.25400001, 0.25400001, 0.25400001, 0.25400001],\n",
       "       [       nan,        nan,        nan,        nan],\n",
       "       [0.31500001, 0.31500001, 0.31500001, 0.31500001],\n",
       "       [       nan,        nan,        nan,        nan],\n",
       "       [       nan,        nan,        nan,        nan],\n",
       "       [       nan,        nan,        nan,        nan],\n",
       "       [       nan,        nan,        nan,        nan],\n",
       "       [       nan,        nan,        nan,        nan],\n",
       "       [       nan,        nan,        nan,        nan],\n",
       "       [       nan,        nan,        nan,        nan],\n",
       "       [       nan,        nan,        nan,        nan],\n",
       "       [0.27200001, 0.27200001, 0.27200001, 0.27200001],\n",
       "       [       nan,        nan,        nan,        nan],\n",
       "       [0.21200001, 0.21200001, 0.21200001, 0.21200001],\n",
       "       [       nan,        nan,        nan,        nan],\n",
       "       [       nan,        nan,        nan,        nan],\n",
       "       [       nan,        nan,        nan,        nan],\n",
       "       [       nan,        nan,        nan,        nan],\n",
       "       [       nan,        nan,        nan,        nan],\n",
       "       [       nan,        nan,        nan,        nan],\n",
       "       [       nan,        nan,        nan,        nan],\n",
       "       [       nan,        nan,        nan,        nan],\n",
       "       [       nan,        nan,        nan,        nan],\n",
       "       [       nan,        nan,        nan,        nan],\n",
       "       [0.19200001, 0.19200001, 0.19200001, 0.19200001],\n",
       "       [0.19100001, 0.19100001, 0.19100001, 0.19100001],\n",
       "       [       nan,        nan,        nan,        nan],\n",
       "       [0.28700001, 0.28700001, 0.28700001, 0.28700001],\n",
       "       [0.30100001, 0.30100001, 0.30100001, 0.30100001],\n",
       "       [0.34100002, 0.34100002, 0.34100002, 0.34100002],\n",
       "       [       nan,        nan,        nan,        nan],\n",
       "       [       nan,        nan,        nan,        nan],\n",
       "       [0.36300002, 0.36300002, 0.36300002, 0.36300002],\n",
       "       [0.43900002, 0.43900002, 0.43900002, 0.43900002],\n",
       "       [0.67000003, 0.67000003, 0.67000003, 0.67000003],\n",
       "       [0.46500002, 0.46500002, 0.46500002, 0.46500002],\n",
       "       [1.09700005, 1.09700005, 1.09700005, 1.09700005],\n",
       "       [       nan,        nan,        nan,        nan],\n",
       "       [       nan,        nan,        nan,        nan],\n",
       "       [0.43000002, 0.43000002, 0.43000002, 0.43000002],\n",
       "       [       nan,        nan,        nan,        nan],\n",
       "       [       nan,        nan,        nan,        nan],\n",
       "       [       nan,        nan,        nan,        nan],\n",
       "       [       nan,        nan,        nan,        nan],\n",
       "       [       nan,        nan,        nan,        nan],\n",
       "       [       nan,        nan,        nan,        nan],\n",
       "       [       nan,        nan,        nan,        nan],\n",
       "       [       nan,        nan,        nan,        nan],\n",
       "       [       nan,        nan,        nan,        nan],\n",
       "       [       nan,        nan,        nan,        nan],\n",
       "       [       nan,        nan,        nan,        nan],\n",
       "       [       nan,        nan,        nan,        nan],\n",
       "       [       nan,        nan,        nan,        nan],\n",
       "       [       nan,        nan,        nan,        nan],\n",
       "       [       nan,        nan,        nan,        nan],\n",
       "       [       nan,        nan,        nan,        nan],\n",
       "       [       nan,        nan,        nan,        nan],\n",
       "       [       nan,        nan,        nan,        nan],\n",
       "       [       nan,        nan,        nan,        nan],\n",
       "       [       nan,        nan,        nan,        nan],\n",
       "       [       nan,        nan,        nan,        nan],\n",
       "       [       nan,        nan,        nan,        nan],\n",
       "       [       nan,        nan,        nan,        nan],\n",
       "       [       nan,        nan,        nan,        nan],\n",
       "       [0.43000002, 0.43000002, 0.43000002, 0.43000002],\n",
       "       [       nan,        nan,        nan,        nan],\n",
       "       [0.33100002, 0.33100002, 0.33100002, 0.33100002],\n",
       "       [0.38300002, 0.38300002, 0.38300002, 0.38300002],\n",
       "       [0.29000001, 0.29000001, 0.29000001, 0.29000001],\n",
       "       [0.52700003, 0.52700003, 0.52700003, 0.52700003],\n",
       "       [0.70900003, 0.70900003, 0.70900003, 0.70900003],\n",
       "       [0.60400003, 0.60400003, 0.60400003, 0.60400003],\n",
       "       [0.57300003, 0.57300003, 0.57300003, 0.57300003],\n",
       "       [0.55300003, 0.55300003, 0.55300003, 0.55300003],\n",
       "       [0.43500002, 0.43500002, 0.43500002, 0.43500002],\n",
       "       [0.51500002, 0.51500002, 0.51500002, 0.51500002],\n",
       "       [0.30900001, 0.30900001, 0.30900001, 0.30900001],\n",
       "       [       nan,        nan,        nan,        nan],\n",
       "       [       nan,        nan,        nan,        nan],\n",
       "       [       nan,        nan,        nan,        nan],\n",
       "       [       nan,        nan,        nan,        nan],\n",
       "       [       nan,        nan,        nan,        nan],\n",
       "       [       nan,        nan,        nan,        nan],\n",
       "       [       nan,        nan,        nan,        nan],\n",
       "       [       nan,        nan,        nan,        nan],\n",
       "       [       nan,        nan,        nan,        nan],\n",
       "       [0.59400003, 0.59400003, 0.59400003, 0.59400003],\n",
       "       [0.37600002, 0.37600002, 0.37600002, 0.37600002],\n",
       "       [       nan,        nan,        nan,        nan],\n",
       "       [       nan,        nan,        nan,        nan],\n",
       "       [1.03500005, 1.03500005, 1.03500005, 1.03500005],\n",
       "       [2.0600001 , 2.0600001 , 2.0600001 , 2.0600001 ],\n",
       "       [0.52900003, 0.52900003, 0.52900003, 0.52900003],\n",
       "       [0.48900002, 0.48900002, 0.48900002, 0.48900002],\n",
       "       [0.51400002, 0.51400002, 0.51400002, 0.51400002],\n",
       "       [0.46700002, 0.46700002, 0.46700002, 0.46700002],\n",
       "       [0.59000003, 0.59000003, 0.59000003, 0.59000003],\n",
       "       [0.41500002, 0.41500002, 0.41500002, 0.41500002],\n",
       "       [0.52900003, 0.52900003, 0.52900003, 0.52900003],\n",
       "       [       nan,        nan,        nan,        nan],\n",
       "       [       nan,        nan,        nan,        nan],\n",
       "       [       nan,        nan,        nan,        nan],\n",
       "       [       nan,        nan,        nan,        nan],\n",
       "       [       nan,        nan,        nan,        nan],\n",
       "       [       nan,        nan,        nan,        nan],\n",
       "       [       nan,        nan,        nan,        nan],\n",
       "       [       nan,        nan,        nan,        nan],\n",
       "       [1.90800009, 1.90800009, 1.90800009, 1.90800009],\n",
       "       [       nan,        nan,        nan,        nan],\n",
       "       [       nan,        nan,        nan,        nan],\n",
       "       [2.59000012, 2.59000012, 2.59000012, 2.59000012],\n",
       "       [       nan,        nan,        nan,        nan],\n",
       "       [       nan,        nan,        nan,        nan],\n",
       "       [       nan,        nan,        nan,        nan],\n",
       "       [       nan,        nan,        nan,        nan],\n",
       "       [       nan,        nan,        nan,        nan],\n",
       "       [       nan,        nan,        nan,        nan],\n",
       "       [0.49900002, 0.49900002, 0.49900002, 0.49900002],\n",
       "       [1.15000005, 1.15000005, 1.15000005, 1.15000005],\n",
       "       [0.37900002, 0.37900002, 0.37900002, 0.37900002],\n",
       "       [0.63000003, 0.63000003, 0.63000003, 0.63000003],\n",
       "       [0.62100003, 0.62100003, 0.62100003, 0.62100003],\n",
       "       [0.65200003, 0.65200003, 0.65200003, 0.65200003],\n",
       "       [0.69000003, 0.69000003, 0.69000003, 0.69000003],\n",
       "       [0.76400004, 0.76400004, 0.76400004, 0.76400004],\n",
       "       [       nan,        nan,        nan,        nan],\n",
       "       [1.89300009, 1.89300009, 1.89300009, 1.89300009],\n",
       "       [0.50300002, 0.50300002, 0.50300002, 0.50300002],\n",
       "       [       nan,        nan,        nan,        nan],\n",
       "       [0.71100003, 0.71100003, 0.71100003, 0.71100003],\n",
       "       [       nan,        nan,        nan,        nan],\n",
       "       [       nan,        nan,        nan,        nan],\n",
       "       [       nan,        nan,        nan,        nan],\n",
       "       [       nan,        nan,        nan,        nan],\n",
       "       [       nan,        nan,        nan,        nan],\n",
       "       [1.74700008, 1.74700008, 1.74700008, 1.74700008],\n",
       "       [1.33200006, 1.33200006, 1.33200006, 1.33200006],\n",
       "       [0.66800003, 0.66800003, 0.66800003, 0.66800003],\n",
       "       [0.59600003, 0.59600003, 0.59600003, 0.59600003],\n",
       "       [       nan,        nan,        nan,        nan],\n",
       "       [       nan,        nan,        nan,        nan],\n",
       "       [       nan,        nan,        nan,        nan],\n",
       "       [       nan,        nan,        nan,        nan],\n",
       "       [       nan,        nan,        nan,        nan],\n",
       "       [       nan,        nan,        nan,        nan],\n",
       "       [       nan,        nan,        nan,        nan],\n",
       "       [       nan,        nan,        nan,        nan],\n",
       "       [       nan,        nan,        nan,        nan],\n",
       "       [       nan,        nan,        nan,        nan],\n",
       "       [       nan,        nan,        nan,        nan],\n",
       "       [       nan,        nan,        nan,        nan],\n",
       "       [       nan,        nan,        nan,        nan],\n",
       "       [       nan,        nan,        nan,        nan],\n",
       "       [       nan,        nan,        nan,        nan],\n",
       "       [       nan,        nan,        nan,        nan],\n",
       "       [       nan,        nan,        nan,        nan],\n",
       "       [       nan,        nan,        nan,        nan],\n",
       "       [       nan,        nan,        nan,        nan],\n",
       "       [       nan,        nan,        nan,        nan],\n",
       "       [       nan,        nan,        nan,        nan],\n",
       "       [       nan,        nan,        nan,        nan],\n",
       "       [       nan,        nan,        nan,        nan],\n",
       "       [       nan,        nan,        nan,        nan],\n",
       "       [       nan,        nan,        nan,        nan],\n",
       "       [       nan,        nan,        nan,        nan],\n",
       "       [2.1100001 , 2.1100001 , 2.1100001 , 2.1100001 ]])"
      ]
     },
     "execution_count": 39,
     "metadata": {},
     "output_type": "execute_result"
    }
   ],
   "source": [
    "Rcs"
   ]
  },
  {
   "cell_type": "code",
   "execution_count": null,
   "metadata": {},
   "outputs": [],
   "source": []
  }
 ],
 "metadata": {
  "kernelspec": {
   "display_name": "Python 3",
   "language": "python",
   "name": "python3"
  },
  "language_info": {
   "codemirror_mode": {
    "name": "ipython",
    "version": 3
   },
   "file_extension": ".py",
   "mimetype": "text/x-python",
   "name": "python",
   "nbconvert_exporter": "python",
   "pygments_lexer": "ipython3",
   "version": "3.6.7"
  }
 },
 "nbformat": 4,
 "nbformat_minor": 2
}
