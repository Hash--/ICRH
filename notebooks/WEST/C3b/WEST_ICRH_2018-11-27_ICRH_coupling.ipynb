{
 "cells": [
  {
   "cell_type": "markdown",
   "metadata": {},
   "source": [
    "This notebook illustrates the WEST pulses made the 27/11/2018, during the dedictated ICRH coupling experiments (2nd day)"
   ]
  },
  {
   "cell_type": "markdown",
   "metadata": {},
   "source": [
    "# Q1 and Q2 antenna position scan -- BROKEN"
   ]
  },
  {
   "cell_type": "markdown",
   "metadata": {},
   "source": [
    "Up to this experiment, Q1 always show a higher coupling resistance than Q2. The goal of the experiment was to determine the optimal radial gap to locate Q1 and Q2 in order that they have the same coupling resistance.   \n",
    "Reference pulses have same radial positions of Q1 and Q2, at R=3010 mm. Then Q2 is moved forward Q1 at 3003 mm then 2995mm (+15mm than Q1).  "
   ]
  },
  {
   "cell_type": "code",
   "execution_count": 2,
   "metadata": {},
   "outputs": [],
   "source": [
    "# pulse numbers\n",
    "pulses = [53772, 53773, # reference pulses, Q1 and Q2@3010mm\n",
    "         53774, 53775, # Q2@3003 mm \n",
    "         53777 ] # Q2@2995 mm"
   ]
  },
  {
   "cell_type": "code",
   "execution_count": 3,
   "metadata": {},
   "outputs": [],
   "source": [
    "from control_room import signals\n",
    "from pulse_database import PulseDB\n",
    "%matplotlib widget"
   ]
  },
  {
   "cell_type": "code",
   "execution_count": 9,
   "metadata": {},
   "outputs": [],
   "source": [
    "db=PulseDB('WEST_C3b_ICRH_pulse_data.hdf5')"
   ]
  },
  {
   "cell_type": "code",
   "execution_count": 11,
   "metadata": {},
   "outputs": [],
   "source": [
    "Rc_Q1_avg, t_Q1_avg = db.get_signal(pulses[0], 'IC_Rc_Q1_avg')\n",
    "Rc_Q2_avg, t_Q2_avg = db.get_signal(pulses[0], 'IC_Rc_Q2_avg')"
   ]
  },
  {
   "cell_type": "code",
   "execution_count": null,
   "metadata": {},
   "outputs": [],
   "source": [
    "for pulse in [pulses[1], pulses[3], pulses[4]]:\n",
    "\n",
    "    Rc_Q1_left, t_Q1_left = get_filtered_sig(pulse, signames['Rc_Q1_left'], thres_min=0.15, thres_max=2)\n",
    "    Rc_Q1_right, t_Q1_right = get_filtered_sig(pulse, signames['Rc_Q1_right'], thres_min=0.15, thres_max=2)\n",
    "\n",
    "    Rc_Q2_left, t_Q2_left = get_filtered_sig(pulse, signames['Rc_Q2_left'], thres_min=0.15, thres_max=2)\n",
    "    Rc_Q2_right, t_Q2_right = get_filtered_sig(pulse, signames['Rc_Q2_right'], thres_min=0.15, thres_max=2)\n",
    "\n",
    "    fig, ax = subplots(1, 2, sharey=True, sharex=True)\n",
    "    ax[0].fill_between(t_Q1_left, \n",
    "                    Rc_Q1_left - (Rc_Q1_left - smooth(Rc_Q1_left)),\n",
    "                    Rc_Q1_left + (Rc_Q1_left - smooth(Rc_Q1_left)) )\n",
    "    ax[0].plot(t_Q1_left, smooth(Rc_Q1_left))\n",
    "\n",
    "    ax[0].fill_between(t_Q1_right, \n",
    "                    Rc_Q1_right - (Rc_Q1_right - smooth(Rc_Q1_right)),\n",
    "                    Rc_Q1_right + (Rc_Q1_right - smooth(Rc_Q1_right)) )\n",
    "    ax[0].plot(t_Q1_right, smooth(Rc_Q1_right))\n",
    "    fig.suptitle(f'WEST pulse #{pulse}', fontsize=12)\n",
    "    ax[0].set_ylabel('Coupling Resistance [$\\Omega$]', fontsize=12)\n",
    "    ax[0].set_title('Q1', fontsize=12)\n",
    "    ax[0].set_xlabel('t [s]', fontsize=12)\n",
    "\n",
    "    ax[1].fill_between(t_Q2_left, \n",
    "                    Rc_Q2_left - (Rc_Q2_left - smooth(Rc_Q2_left)),\n",
    "                    Rc_Q2_left + (Rc_Q2_left - smooth(Rc_Q2_left)) )\n",
    "    ax[1].plot(t_Q2_left, smooth(Rc_Q2_left))\n",
    "\n",
    "    ax[1].fill_between(t_Q2_right, \n",
    "                    Rc_Q2_right - (Rc_Q2_right - smooth(Rc_Q2_right)),\n",
    "                    Rc_Q2_right + (Rc_Q2_right - smooth(Rc_Q2_right)) )\n",
    "    ax[1].plot(t_Q2_right, smooth(Rc_Q2_right))\n",
    "    ax[1].set_title('Q2', fontsize=12)\n",
    "    ax[1].set_xlabel('t [s]', fontsize=12)\n",
    "    ax[1].set_ylim(0, 0.65)\n"
   ]
  },
  {
   "cell_type": "code",
   "execution_count": null,
   "metadata": {},
   "outputs": [],
   "source": [
    "fig, ax = subplots()\n",
    "# average left/right Rc\n",
    "for pulse in [pulses[3], pulses[4]]:\n",
    "\n",
    "    Rc_Q1_left, t_Q1_left = get_filtered_sig(pulse, signames['Rc_Q1_left'], thres_min=0.15, thres_max=2)\n",
    "    Rc_Q1_right, t_Q1_right = get_filtered_sig(pulse, signames['Rc_Q1_right'], thres_min=0.15, thres_max=2)\n",
    "    Rc_Q1_right = interp(t_Q1_left, t_Q1_right, Rc_Q1_right)\n",
    "    \n",
    "    Rc_Q2_left, t_Q2_left = get_filtered_sig(pulse, signames['Rc_Q2_left'], thres_min=0.15, thres_max=2)\n",
    "    Rc_Q2_right, t_Q2_right = get_filtered_sig(pulse, signames['Rc_Q2_right'], thres_min=0.15, thres_max=2)\n",
    "    Rc_Q2_right = interp(t_Q2_left, t_Q2_right, Rc_Q2_right)\n",
    "    \n",
    "    Rc_Q1 =  mean(array([Rc_Q1_left, Rc_Q1_right]), axis=0)\n",
    "    Rc_Q2 =  mean(array([Rc_Q2_left, Rc_Q2_right]), axis=0)\n",
    "    \n",
    "\n",
    "    \n",
    "    ax.fill_between(t_Q1_left, \n",
    "                    Rc_Q1 - (Rc_Q1 - smooth(Rc_Q1)),\n",
    "                    Rc_Q1 + (Rc_Q1 - smooth(Rc_Q1)), alpha=0.2 )\n",
    "    ax.plot(t_Q1_left, smooth(Rc_Q1), label=f'Q1 - #{pulse}')\n",
    "\n",
    "\n",
    "\n",
    "    ax.fill_between(t_Q2_left, \n",
    "                    Rc_Q2 - (Rc_Q2 - smooth(Rc_Q2)),\n",
    "                    Rc_Q2 + (Rc_Q2 - smooth(Rc_Q2)), alpha=0.2 )\n",
    "    ax.plot(t_Q2_left, smooth(Rc_Q2), label=f'Q2 - #{pulse}')\n",
    "\n",
    "    ax.set_title(f'WEST pulse #{pulse}', fontsize=12)\n",
    "    ax.set_ylabel('Coupling Resistance [$\\Omega$]', fontsize=12)\n",
    "    ax.set_title('Q1', fontsize=12)\n",
    "    ax.set_xlabel('t [s]', fontsize=12)\n",
    "    ax.legend()\n",
    "    ax.set_ylim(0, 0.65)\n"
   ]
  },
  {
   "cell_type": "code",
   "execution_count": null,
   "metadata": {},
   "outputs": [],
   "source": [
    " mean(array([Rc_Q1_left, Rc_Q1_right]), axis=0)"
   ]
  },
  {
   "cell_type": "code",
   "execution_count": null,
   "metadata": {},
   "outputs": [],
   "source": [
    "fig, ax = subplots()\n",
    "# difference of the average left/right Rc\n",
    "for pulse in [pulses[0], pulses[3], pulses[4]]:\n",
    "\n",
    "    Rc_Q1_left, t_Q1_left = get_filtered_sig(pulse, signames['Rc_Q1_left'], thres_min=0.15, thres_max=2)\n",
    "    Rc_Q1_right, t_Q1_right = get_filtered_sig(pulse, signames['Rc_Q1_right'], thres_min=0.15, thres_max=2)\n",
    "    Rc_Q1_right = interp(t_Q1_left, t_Q1_right, Rc_Q1_right)\n",
    "    \n",
    "    Rc_Q2_left, t_Q2_left = get_filtered_sig(pulse, signames['Rc_Q2_left'], thres_min=0.15, thres_max=2)\n",
    "    Rc_Q2_right, t_Q2_right = get_filtered_sig(pulse, signames['Rc_Q2_right'], thres_min=0.15, thres_max=2)\n",
    "    Rc_Q2_right = interp(t_Q2_left, t_Q2_right, Rc_Q2_right)\n",
    "    \n",
    "    \n",
    "    Rc_Q1 =  mean(array([Rc_Q1_left, Rc_Q1_right]), axis=0)\n",
    "    Rc_Q2 =  mean(array([Rc_Q2_left, Rc_Q2_right]), axis=0)\n",
    "    Rc_Q2 = interp(t_Q1_left, t_Q2_left, Rc_Q2)\n",
    "    \n",
    "\n",
    "    ax.plot(t_Q1_left, smooth(abs(Rc_Q1 - Rc_Q2)), label=f'#{pulse}')\n",
    "\n",
    "    ax.set_title('Coupling Resistance Difference \\n btw Q1 and Q2', fontsize=12)\n",
    "    ax.set_ylabel('<$R_{c,Q1}$> - <$R_{c,Q2}$> [$\\Omega$]', fontsize=12)\n",
    "    ax.set_xlabel('t [s]', fontsize=12)\n",
    "    ax.legend()\n",
    "    \n",
    "fig.tight_layout()\n",
    "#fig.savefig('2018-11-27_coupling_resistance_differences.png')"
   ]
  },
  {
   "cell_type": "code",
   "execution_count": null,
   "metadata": {},
   "outputs": [],
   "source": []
  }
 ],
 "metadata": {
  "kernelspec": {
   "display_name": "Python 3",
   "language": "python",
   "name": "python3"
  },
  "language_info": {
   "codemirror_mode": {
    "name": "ipython",
    "version": 3
   },
   "file_extension": ".py",
   "mimetype": "text/x-python",
   "name": "python",
   "nbconvert_exporter": "python",
   "pygments_lexer": "ipython3",
   "version": "3.6.8"
  }
 },
 "nbformat": 4,
 "nbformat_minor": 2
}
