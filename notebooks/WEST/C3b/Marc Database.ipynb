{
 "cells": [
  {
   "cell_type": "markdown",
   "metadata": {},
   "source": [
    "This notebook looks into the Marc Goniche WEST C3b ICRH database"
   ]
  },
  {
   "cell_type": "code",
   "execution_count": 1,
   "metadata": {},
   "outputs": [],
   "source": [
    "import numpy as np\n",
    "from scipy.io.matlab import loadmat"
   ]
  },
  {
   "cell_type": "code",
   "execution_count": 2,
   "metadata": {},
   "outputs": [],
   "source": [
    "data = loadmat('databases/BaseFCI_MG.mat')"
   ]
  },
  {
   "cell_type": "code",
   "execution_count": 10,
   "metadata": {},
   "outputs": [
    {
     "data": {
      "text/plain": [
       "array([53209, 53210, 53211, 53212, 53213, 53220, 53221, 53223, 53224,\n",
       "       53225, 53227, 53233, 53234, 53258, 53259, 53493, 53580, 53581,\n",
       "       53582, 53583, 53584, 53588, 53589, 53590, 53591, 53594, 53596,\n",
       "       53604, 53608, 53609, 53610, 53630, 53632, 53633, 53636, 53637,\n",
       "       53638, 53639, 53640, 53643, 53672, 53674, 53675, 53676, 53677,\n",
       "       53678, 53679, 53680, 53681, 53682, 53683, 53684, 53686, 53687,\n",
       "       53688, 53689, 53690, 53691, 53693, 53694, 53695, 53696, 53698,\n",
       "       53699, 53700, 53701, 53702, 53703, 53704, 53705, 53706, 53730,\n",
       "       53733, 53772, 53773, 53774, 53775, 53777, 53778, 53779, 53780,\n",
       "       53781, 53782, 53784, 53787, 53790, 53791, 53792, 53793, 53868,\n",
       "       53871, 53872, 53875, 53876, 53877, 53879, 53897, 53898, 53899,\n",
       "       53903, 53905, 53906, 53907, 53917, 53921, 53923, 53930, 53931,\n",
       "       53932, 53934, 53935, 53970, 53971, 53973, 53975, 53982, 53983,\n",
       "       53984, 54001, 54004, 54005, 54006, 54087, 54089, 54090, 54091,\n",
       "       54092, 54094, 54102, 54105], dtype=uint16)"
      ]
     },
     "execution_count": 10,
     "metadata": {},
     "output_type": "execute_result"
    }
   ],
   "source": [
    "np.squeeze(data['Choc'])"
   ]
  },
  {
   "cell_type": "code",
   "execution_count": null,
   "metadata": {},
   "outputs": [],
   "source": []
  }
 ],
 "metadata": {
  "kernelspec": {
   "display_name": "Python 3",
   "language": "python",
   "name": "python3"
  },
  "language_info": {
   "codemirror_mode": {
    "name": "ipython",
    "version": 3
   },
   "file_extension": ".py",
   "mimetype": "text/x-python",
   "name": "python",
   "nbconvert_exporter": "python",
   "pygments_lexer": "ipython3",
   "version": "3.6.8"
  }
 },
 "nbformat": 4,
 "nbformat_minor": 2
}
