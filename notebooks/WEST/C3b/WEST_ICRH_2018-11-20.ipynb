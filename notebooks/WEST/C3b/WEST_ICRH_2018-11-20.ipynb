{
 "cells": [
  {
   "cell_type": "code",
   "execution_count": 20,
   "metadata": {},
   "outputs": [],
   "source": [
    "%matplotlib widget\n",
    "import pywed as pw\n",
    "import matplotlib.pyplot as plt\n",
    "import numpy as np"
   ]
  },
  {
   "cell_type": "code",
   "execution_count": 21,
   "metadata": {},
   "outputs": [],
   "source": [
    "from scipy.signal import savgol_filter\n",
    "def smooth(y, window_length=51, polyorder=3):\n",
    "    return savgol_filter(np.squeeze(y), window_length, polyorder)"
   ]
  },
  {
   "cell_type": "code",
   "execution_count": 53,
   "metadata": {},
   "outputs": [],
   "source": [
    "pulses = [53701, 53702, 53703, 53704, 53705, 53706] # toward 1 MW max\n",
    "pulses = [53703, 53704] # reduced selection"
   ]
  },
  {
   "cell_type": "code",
   "execution_count": 40,
   "metadata": {},
   "outputs": [],
   "source": [
    "Q1RcLeft, t_Q1RcLeft, _, _, Q1RcRight, t_Q1RcRight, _, _ = pw.tsbase(pulse, ['GICHCOUPRES%1', 'GICHCOUPRES%2'])\n"
   ]
  },
  {
   "cell_type": "code",
   "execution_count": 42,
   "metadata": {},
   "outputs": [
    {
     "data": {
      "text/plain": [
       "array([[-9.06650043],\n",
       "       [-9.06650043],\n",
       "       [-9.06650043],\n",
       "       ...,\n",
       "       [-9.06650043],\n",
       "       [-9.06650043],\n",
       "       [-9.06650043]])"
      ]
     },
     "execution_count": 42,
     "metadata": {},
     "output_type": "execute_result"
    }
   ],
   "source": [
    "np.mean([Q1RcLeft, Q1RcRight], axis=0)"
   ]
  },
  {
   "cell_type": "code",
   "execution_count": 76,
   "metadata": {},
   "outputs": [
    {
     "data": {
      "application/vnd.jupyter.widget-view+json": {
       "model_id": "228435311695463987026eec834268fc",
       "version_major": 2,
       "version_minor": 0
      },
      "text/plain": [
       "FigureCanvasNbAgg()"
      ]
     },
     "metadata": {},
     "output_type": "display_data"
    }
   ],
   "source": [
    "fig, ax = plt.subplots(3, 1, sharex=True)\n",
    "\n",
    "for pulse in pulses:\n",
    "    ip, t_ip = pw.tsbase(pulse, 'SMAG_IP', nargout=2)\n",
    "    Ptot, t_Ptot = pw.tsbase(pulse, 'SICHPTOT', nargout=2)\n",
    "    \n",
    "    Q1RcLeft, t_Q1RcLeft, _, _, Q1RcRight, t_Q1RcRight, _, _ = pw.tsbase(pulse, ['GICHCOUPRES%1', 'GICHCOUPRES%2'])\n",
    "    Q2RcLeft, t_Q2RcLeft, _, _, Q2RcRight, t_Q2RcRight, _, _ = pw.tsbase(pulse, ['GICHCOUPRES%3', 'GICHCOUPRES%4'])\n",
    "    \n",
    "    Q1Rc = np.mean([Q1RcLeft, Q1RcRight], axis=0)\n",
    "    Q2Rc = np.mean([Q2RcLeft, Q2RcRight], axis=0)\n",
    "    avg_Rc = np.mean([Q1Rc, Q2Rc], axis=0)\n",
    "\n",
    "    ax[0].plot(t_ip, ip, label=f'#{pulse}')\n",
    "    ax[1].plot(t_Ptot, smooth(Ptot))\n",
    "    ax[2].plot(t_Q1RcLeft, avg_Rc)\n",
    "\n",
    "ax[0].legend()\n",
    "ax[0].set_ylabel('[kA]')\n",
    "ax[1].set_ylabel('[kW]')\n",
    "ax[2].set_ylabel('[$\\Omega$]')\n",
    "ax[2].set_ylim(0, 0.7)\n",
    "ax[-1].set_xlabel('t [s]')\n",
    "ax[-1].set_xlim(0, 12)\n",
    "\n",
    "ax[0].text(0.01, 0.85, 'Plasma Current', horizontalalignment='left', transform=ax[0].transAxes)\n",
    "ax[1].text(0.01, 0.85, 'RF Power', horizontalalignment='left', transform=ax[1].transAxes)\n",
    "ax[2].text(0.01, 0.85, 'Coupling Resistance (average)', horizontalalignment='left', transform=ax[2].transAxes)\n",
    "\n",
    "[a.grid(True, alpha=0.2) for a in ax]\n",
    "\n",
    "fig.subplots_adjust(hspace=0)\n",
    "fig.savefig()"
   ]
  },
  {
   "cell_type": "code",
   "execution_count": 82,
   "metadata": {},
   "outputs": [
    {
     "data": {
      "text/plain": [
       "[None, None, None]"
      ]
     },
     "execution_count": 82,
     "metadata": {},
     "output_type": "execute_result"
    }
   ],
   "source": [
    "\n",
    "ax[0].set_ylabel('[kA]')\n",
    "ax[1].set_ylabel('[kW]')\n",
    "ax[2].set_ylabel('[$\\Omega$]')\n",
    "[a.grid(True, alpha=0.2) for a in ax]"
   ]
  },
  {
   "cell_type": "code",
   "execution_count": 55,
   "metadata": {},
   "outputs": [
    {
     "data": {
      "text/plain": [
       "(0, 0.7)"
      ]
     },
     "execution_count": 55,
     "metadata": {},
     "output_type": "execute_result"
    }
   ],
   "source": [
    "ax[2].set_ylim(0, 0.7)"
   ]
  },
  {
   "cell_type": "code",
   "execution_count": null,
   "metadata": {},
   "outputs": [],
   "source": []
  }
 ],
 "metadata": {
  "kernelspec": {
   "display_name": "Python 3",
   "language": "python",
   "name": "python3"
  },
  "language_info": {
   "codemirror_mode": {
    "name": "ipython",
    "version": 3
   },
   "file_extension": ".py",
   "mimetype": "text/x-python",
   "name": "python",
   "nbconvert_exporter": "python",
   "pygments_lexer": "ipython3",
   "version": "3.6.7"
  }
 },
 "nbformat": 4,
 "nbformat_minor": 2
}
