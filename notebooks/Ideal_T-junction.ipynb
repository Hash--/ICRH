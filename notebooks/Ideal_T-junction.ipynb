{
 "cells": [
  {
   "cell_type": "markdown",
   "metadata": {},
   "source": [
    "# Ideal T-junction\n",
    "In this notebook, We derive the scattering parameters of an ideal 3-nodes junction, as illustrated in the figure below. \n",
    "<img src=\"./figures/Tjunction.png\" width=300 />"
   ]
  },
  {
   "cell_type": "markdown",
   "metadata": {},
   "source": [
    "## Assumptions"
   ]
  },
  {
   "cell_type": "markdown",
   "metadata": {},
   "source": [
    "We are making the following assumptions, derived from Kirchhoff's laws:\n",
    "\n",
    "* $V_0 = V_1 = V_2 = V$\n",
    "* $I_0 + I_1 + I_2 = 0$"
   ]
  },
  {
   "cell_type": "markdown",
   "metadata": {},
   "source": [
    "We have also the definitions of the power waves in terms of total voltage and current:\n",
    "\n",
    "* $a_i = \\frac{1}{2\\sqrt{Z_i}} \\left(V_i + Z_i I_i \\right) $\n",
    "* $b_i = \\frac{1}{2\\sqrt{Z_i}} \\left(V_i - Z_i I_i \\right) $\n",
    "\n",
    "and inversely\n",
    "\n",
    "* $V_i = \\sqrt{Z_i} \\left( a_i + b_i \\right)$\n",
    "* $I_i = \\frac{1}{\\sqrt{Z_i}} \\left( a_i - b_i\\right )$"
   ]
  },
  {
   "cell_type": "markdown",
   "metadata": {},
   "source": [
    "## $S_{ii}$ terms"
   ]
  },
  {
   "cell_type": "markdown",
   "metadata": {},
   "source": [
    "By definition :\n",
    "$$ S_{ii} = \\left. \\frac{b_i}{a_i}\\right|_{a_j=a_k=0}$$"
   ]
  },
  {
   "cell_type": "markdown",
   "metadata": {},
   "source": [
    "From the definitions of the power waves:"
   ]
  },
  {
   "cell_type": "markdown",
   "metadata": {},
   "source": [
    "\n",
    "$$S_{ii} = \\frac{V_i - Z_i I_i}{V_i + Z_i I_i}$$ "
   ]
  },
  {
   "cell_type": "markdown",
   "metadata": {},
   "source": [
    "Since the voltages are equal and since $a_j=a_k=0$ as stated above, we have :\n",
    "\n",
    "* $ V_j = V_i \\rightarrow \\sqrt{Z_j} b_j = \\sqrt{Z_i} \\left(a_i + b_i\\right)$\n",
    "* $ V_k = V_i \\rightarrow \\sqrt{Z_k} b_k = \\sqrt{Z_i} \\left(a_i + b_i\\right)$\n",
    "\n",
    "from which we deduce :\n",
    "\n",
    "* $b_j = \\sqrt{\\frac{Z_i}{Z_j}} \\left(a_i + b_i\\right)$\n",
    "* $b_k = \\sqrt{\\frac{Z_i}{Z_k}} \\left(a_i + b_i\\right)$\n"
   ]
  },
  {
   "cell_type": "markdown",
   "metadata": {},
   "source": [
    "Using node's assumption :\n",
    "\n",
    "$$I_i = - I_j - I_k =  \\frac{1}{\\sqrt{Z_j}} b_j + \\frac{1}{\\sqrt{Z_k}} b_k $$\n",
    "ie\n",
    "$$I_i = \\sqrt{Z_i} \\left(a_i + b_i\\right) \\left( \\frac{1}{Z_j}   + \\frac{1}{Z_k}\\right)$$"
   ]
  },
  {
   "cell_type": "markdown",
   "metadata": {},
   "source": [
    "The scattering parameter is thus:\n",
    "$$ S_{ii} = \\frac{1 - Z_i \\left( \\frac{1}{Z_j}   + \\frac{1}{Z_k} \\right)}{1 + Z_i \\left( \\frac{1}{Z_j}   + \\frac{1}{Z_k} \\right)} $$"
   ]
  },
  {
   "cell_type": "markdown",
   "metadata": {},
   "source": [
    "or, with $Z_j \\parallel Z_k - Z_i = Z_j Z_k/(Z_j + Z_k)$ :\n",
    "\n",
    "$$S_{ii} =  \\boxed{\\displaystyle \\frac{Z_j \\parallel Z_k - Z_i}{Z_j \\parallel Z_k + Z_i}}$$"
   ]
  },
  {
   "cell_type": "markdown",
   "metadata": {},
   "source": [
    "From the above equation, one can see that having $Z_i = Z_j \\parallel Z_k$ leads to match the port $i$."
   ]
  },
  {
   "cell_type": "markdown",
   "metadata": {},
   "source": [
    "## $S_{ji}$ terms"
   ]
  },
  {
   "cell_type": "markdown",
   "metadata": {},
   "source": [
    "$$S_{ji} = \\left. \\frac{\\sqrt{Z_i}}{\\sqrt{Z_j}} \\frac{V_j - Z_j I_j}{V_i + Z_i I_i} \\right|_{a_j=a_k=0}$$ "
   ]
  },
  {
   "cell_type": "markdown",
   "metadata": {},
   "source": [
    "Since the voltages are equal and since $a_j=a_k=0$ as stated above, we have :\n",
    "\n",
    "* $ V_j = V_i \\rightarrow \\sqrt{Z_j} b_j = \\sqrt{Z_i} \\left(a_i + b_i\\right)$\n",
    "* $ V_k = V_i \\rightarrow \\sqrt{Z_k} b_k = \\sqrt{Z_i} \\left(a_i + b_i\\right)$\n",
    "\n",
    "from which we deduce :\n",
    "\n",
    "* $b_j = \\sqrt{\\frac{Z_i}{Z_j}} \\left(a_i + b_i\\right)$\n",
    "* $b_k = \\sqrt{\\frac{Z_i}{Z_k}} \\left(a_i + b_i\\right)$\n"
   ]
  },
  {
   "cell_type": "markdown",
   "metadata": {},
   "source": [
    "Using node's assumption :\n",
    "\n",
    "$$I_i = - I_j - I_k =  \\frac{1}{\\sqrt{Z_j}} b_j + \\frac{1}{\\sqrt{Z_k}} b_k $$\n",
    "ie\n",
    "$$I_i = \\sqrt{Z_i} \\left(a_i + b_i\\right) \\left( \\frac{1}{Z_j}   + \\frac{1}{Z_k}\\right) = \\frac{\\sqrt{Z_i} \\left(a_i + b_i\\right)}{Z_j \\parallel Z_k}   $$"
   ]
  },
  {
   "cell_type": "markdown",
   "metadata": {},
   "source": [
    "$$S_{ji} = \\frac{\\sqrt{Z_i}}{\\sqrt{Z_j}} \\frac{V_j - Z_j I_j}\n",
    "{\\sqrt{Z_i} \\left(a_i + b_i\\right) \\left(1 +  \\frac{Z_i}{Z_j \\parallel Z_k} \\right)} $$ "
   ]
  },
  {
   "cell_type": "markdown",
   "metadata": {},
   "source": [
    "The scattering parameter is thus:"
   ]
  },
  {
   "cell_type": "markdown",
   "metadata": {},
   "source": [
    "$$ S_{ji} =  \\frac{\\sqrt{Z_i}}{\\sqrt{Z_j}} \\frac{\\sqrt{Z_i} \\left(a_i + b_i\\right) - Z_j I_j }{\\sqrt{Z_i}(a_i+b_i) \\left(1 +  \\frac{Z_i}{Z_j \\parallel Z_k} \\right)}\n",
    "$$"
   ]
  },
  {
   "cell_type": "markdown",
   "metadata": {},
   "source": [
    "$$ S_{ji} =  \\frac{\\sqrt{Z_i}}{\\sqrt{Z_j}} \\frac{\\sqrt{Z_i} \\left(a_i + b_i\\right) + \\sqrt{Z_j} b_j }{\\sqrt{Z_i}(a_i+b_i) \\left(1 +  \\frac{Z_i}{Z_j \\parallel Z_k} \\right)}\n",
    "$$"
   ]
  },
  {
   "cell_type": "markdown",
   "metadata": {},
   "source": [
    "which can be simplified from voltage relationships : "
   ]
  },
  {
   "cell_type": "markdown",
   "metadata": {},
   "source": [
    "$$ \\boxed{S_{ji} =  \\displaystyle \\frac{\\sqrt{Z_i}}{\\sqrt{Z_j}} \\frac{2 Z_j \\parallel Z_k}{Z_j \\parallel Z_k +  Z_i }}\n",
    "$$"
   ]
  },
  {
   "cell_type": "markdown",
   "metadata": {},
   "source": [
    "# Numerical implementation"
   ]
  },
  {
   "cell_type": "code",
   "execution_count": 14,
   "metadata": {
    "collapsed": false
   },
   "outputs": [
    {
     "name": "stdout",
     "output_type": "stream",
     "text": [
      "Populating the interactive namespace from numpy and matplotlib\n"
     ]
    }
   ],
   "source": [
    "%pylab inline"
   ]
  },
  {
   "cell_type": "code",
   "execution_count": 24,
   "metadata": {
    "collapsed": false
   },
   "outputs": [],
   "source": [
    "from __future__ import division # avoid integer division if used with Python2.\n",
    "\n",
    "def Z_par(Zj, Zk):\n",
    "    return( Zj*Zk / (Zj + Zk))\n",
    "\n",
    "def Sii(Zi, Zj, Zk):\n",
    "    Zjk = Z_par(Zj, Zk)\n",
    "    Sii = (Zjk - Zi)/(Zjk + Zi)\n",
    "    return(Sii)\n",
    "    \n",
    "def Sji(Zi, Zj, Zk):\n",
    "    Zjk = Z_par(Zj, Zk)\n",
    "    Sji = sqrt(Zi)/sqrt(Zj)*2*Zjk / (Zjk + Zi) \n",
    "    return(Sji)\n",
    "    \n",
    "def get_S(Z0,Z1,Z2):\n",
    "    S = np.zeros((3,3))\n",
    "    S[0,0] = Sii(Z0, Z1, Z2)\n",
    "    S[1,1] = Sii(Z1, Z2, Z0)\n",
    "    S[2,2] = Sii(Z2, Z0, Z1)\n",
    "    \n",
    "    S[1,0] = Sji(Z0, Z1, Z2)\n",
    "    S[2,0] = Sji(Z0, Z2, Z1)\n",
    "    S[2,1] = Sji(Z1, Z2, Z0)\n",
    "    S[0,1] = Sji(Z1, Z0, Z2)\n",
    "    S[0,2] = Sji(Z2, Z0, Z1)\n",
    "    S[1,2] = Sji(Z2, Z1, Z0)\n",
    "    return(S)"
   ]
  },
  {
   "cell_type": "markdown",
   "metadata": {},
   "source": [
    "Exemple : Zin=6 Ohm, and 24 Ohm for output ports"
   ]
  },
  {
   "cell_type": "code",
   "execution_count": 25,
   "metadata": {
    "collapsed": false
   },
   "outputs": [
    {
     "name": "stdout",
     "output_type": "stream",
     "text": [
      "[[ 0.33333333  0.66666667  0.66666667]\n",
      " [ 0.66666667 -0.66666667  0.33333333]\n",
      " [ 0.66666667  0.33333333 -0.66666667]]\n"
     ]
    }
   ],
   "source": [
    "S=get_S(Z0=6, Z1=24, Z2=24)\n",
    "print(S)"
   ]
  },
  {
   "cell_type": "markdown",
   "metadata": {},
   "source": [
    "**Passivity test**"
   ]
  },
  {
   "cell_type": "markdown",
   "metadata": {},
   "source": [
    "Does the scattering matrix is passive, ie. does $S.S^H=1$ ?"
   ]
  },
  {
   "cell_type": "code",
   "execution_count": 26,
   "metadata": {
    "collapsed": false
   },
   "outputs": [
    {
     "name": "stdout",
     "output_type": "stream",
     "text": [
      "[[ 1.  0.  0.]\n",
      " [ 0.  1.  0.]\n",
      " [ 0.  0.  1.]]\n"
     ]
    },
    {
     "data": {
      "text/plain": [
       "True"
      ]
     },
     "execution_count": 26,
     "metadata": {},
     "output_type": "execute_result"
    }
   ],
   "source": [
    "SdotSH=S.dot(S.conj().T) # or: np.dot(S, np.transpose(np.conjugate(S)))\n",
    "print(SdotSH)\n",
    "np.allclose(SdotSH, np.eye(3))"
   ]
  }
 ],
 "metadata": {
  "kernelspec": {
   "display_name": "Python 2",
   "language": "python",
   "name": "python2"
  },
  "language_info": {
   "codemirror_mode": {
    "name": "ipython",
    "version": 2
   },
   "file_extension": ".py",
   "mimetype": "text/x-python",
   "name": "python",
   "nbconvert_exporter": "python",
   "pygments_lexer": "ipython2",
   "version": "2.7.8"
  }
 },
 "nbformat": 4,
 "nbformat_minor": 0
}
