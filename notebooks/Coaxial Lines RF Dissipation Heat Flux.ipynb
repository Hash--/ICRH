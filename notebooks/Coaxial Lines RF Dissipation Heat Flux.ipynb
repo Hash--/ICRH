{
 "cells": [
  {
   "cell_type": "code",
   "execution_count": 9,
   "metadata": {},
   "outputs": [
    {
     "name": "stdout",
     "output_type": "stream",
     "text": [
      "Populating the interactive namespace from numpy and matplotlib\n"
     ]
    },
    {
     "name": "stderr",
     "output_type": "stream",
     "text": [
      "C:\\Users\\JH218595\\AppData\\Local\\Continuum\\Anaconda3\\lib\\site-packages\\IPython\\core\\magics\\pylab.py:160: UserWarning: pylab import has clobbered these variables: ['interactive']\n",
      "`%matplotlib` prevents importing * from pylab and numpy\n",
      "  \"\\n`%matplotlib` prevents importing * from pylab and numpy\"\n"
     ]
    }
   ],
   "source": [
    "%pylab inline\n",
    "from scipy.constants import epsilon_0, mu_0\n",
    "# Interactive widget for the IPython notebook\n",
    "from ipywidgets import widgets, interact, interactive, fixed"
   ]
  },
  {
   "cell_type": "markdown",
   "metadata": {},
   "source": [
    "Let be:\n",
    " - $\\mathcal{E}$ the _electric intensity_ (in V/m)\n",
    " - $\\mathcal{H}$ the _magnetic intensity_ (in A/m)\n",
    " - $\\mathcal{D}$ the _electric flux density_ (in C/m²)\n",
    " - $\\mathcal{J}$ the _electric current density_ (in A/m²)\n",
    " \n",
    "The above quantities obey the _Maxwell equations_:\n",
    " $$\\nabla \\times \\mathcal{H} = \\frac{\\partial \\mathcal{D}}{\\partial t} + \\mathcal{J}\n",
    " $$\n",
    " When the fields are AC, that is when the time variation is harmonic, the mathematical analysis can be simplified by using complex quantities. Any AC scalar quantities can be interpreted to\n",
    " $$\n",
    " v = \\sqrt{2} \\Re\\left( V e^{j \\omega t} \\right) \n",
    " $$\n",
    " where $v$ si the _instantaneous quantity_ and $V$ the _complex quantity_ (or _phasor_). The factor $\\sqrt{2}$ leads the magnitude of the complex quantity $V$ to be the effective root-mean-square (rms) value of the instantaneous quantity $v$. \n",
    " \n",
    " The Maxwell equations in complex form are thus\n",
    " $$\n",
    " \\nabla \\times E = - j \\omega B\n",
    " $$\n",
    " $$\n",
    " \\nabla \\times H = j\\omega D + J\n",
    " $$\n",
    " "
   ]
  },
  {
   "cell_type": "markdown",
   "metadata": {},
   "source": [
    " Suppose we have a RF current $I$ flowing in coaxial line of diameter $D$. By applying Maxwell-Ampere law:\n",
    " $$\n",
    " \\oint H \\cdot dl = I\n",
    " $$\n",
    " where the _complex quantity_ $I$ is the effective root-mean-square value of the _instantaneous quantity_ $i$, following the interpretation\n",
    " $$\n",
    "i = \\sqrt{2} \\Re\\left( I e^{j \\omega t} \\right) \n",
    " $$\n",
    " ie\n",
    " $$\n",
    " I = I_{rms} = I_{peak} / \\sqrt{2}\n",
    " $$"
   ]
  },
  {
   "cell_type": "markdown",
   "metadata": {},
   "source": [
    "Integrating around a coaxial conductor, we thus have:\n",
    "$$\n",
    "\\pi D H_0 = I\n",
    "$$\n",
    "where $H_0$ is the amplitude of $H$ at the surface of the conductor ($r=D/2$)."
   ]
  },
  {
   "cell_type": "markdown",
   "metadata": {},
   "source": [
    "A wave starting at the surface of a good conductor and propagating inward is very quickly damped to insignificant values. The field is localized in a thin layer, a phenomenon known as _skin effect_. The distance in which a wave is attenuated to $1/e$ (36.8%) of its initial value is called the _skin depth_ $\\delta$, defined by:\n",
    "$$\n",
    "\\delta =\\sqrt{\\frac{2}{\\omega \\mu \\sigma}} = \\sqrt{\\frac{2 \\rho }{\\omega \\mu}}\n",
    "$$"
   ]
  },
  {
   "cell_type": "code",
   "execution_count": 10,
   "metadata": {},
   "outputs": [
    {
     "data": {
      "application/vnd.jupyter.widget-view+json": {
       "model_id": "1e3435f725bd41d1b296a7388193fb0e",
       "version_major": 2,
       "version_minor": 0
      },
      "text/plain": [
       "interactive(children=(FloatSlider(value=55.5, description='f_MHz', max=80.0, min=20.0), FloatSlider(value=5.0,…"
      ]
     },
     "metadata": {},
     "output_type": "display_data"
    }
   ],
   "source": [
    "def skin_depth(f=55.5e6, sigma=5e7):\n",
    "    '''\n",
    "    Skin depth calculation\n",
    "     f_MHz : frequency in Hz\n",
    "     sigma : metal conductivity in S/m\n",
    "    '''\n",
    "    delta = sqrt(2/(2*pi*f * mu_0 * sigma))\n",
    "    return delta\n",
    "\n",
    "@interact(f_MHz=(20, 80, 0.1), sigma_e7=(1,6,0.1))\n",
    "def delta_widget(f_MHz=55.5, sigma_e7=5):\n",
    "    delta = skin_depth(f_MHz*1e6, sigma_e7*1e7)\n",
    "    print('Skin depth delta= {} µm'.format(delta/1e-6))"
   ]
  },
  {
   "cell_type": "markdown",
   "metadata": {},
   "source": [
    "## Power Dissipated vs Input Current "
   ]
  },
  {
   "cell_type": "markdown",
   "metadata": {},
   "source": [
    "The density of power flow into the conductor, which must also be that dissipated within the conductor, is given by:\n",
    "$$\n",
    "S = E \\times H^* = \\eta |H_0|^2 \n",
    "$$\n",
    "where $\\eta=R + jX$ is the metal _intrinsic impedance_ and $H_0$ the amplitude of $H$ at the surface. The time-average power dissipation per unit area (in W/m²) of surface cross section the the real part of the above power flow, or:\n",
    "$$\n",
    "P_d = R |H_0|^2\n",
    "$$\n",
    "where $R$ is the _intrinsic resistance_ or the _surface impedance_ of the metal (in $\\Omega$ per square):\n",
    "$$\n",
    "R = \\frac{1}{\\sigma \\delta} = \\sqrt{\\frac{\\omega \\mu}{2\\sigma}}\n",
    "$$\n",
    "see also http://www.microwaves101.com/encyclopedias/rf-sheet-resistance"
   ]
  },
  {
   "cell_type": "markdown",
   "metadata": {},
   "source": [
    "Using the previous relation, the time-average power dissipation in W/m² in the conductor is thus in term of $I_{peak}$:\n",
    "$$\n",
    "P_d = \\frac{R}{2} \\frac{|I_{peak}|^2}{(\\pi D)^2} \n",
    "$$"
   ]
  },
  {
   "cell_type": "markdown",
   "metadata": {},
   "source": [
    "## Power Dissipated vs Input Power"
   ]
  },
  {
   "cell_type": "markdown",
   "metadata": {},
   "source": [
    "Let be $V$ and $I$ the peak voltage and current on a coaxial transmission line under with a standing wave-ratio $S$. The maximum peak current in the line will be:\n",
    "\n",
    "$$\n",
    "I_{max}\n",
    "=\n",
    "\\sqrt{\\frac{2 P_{inc} S}{Z_0}}\n",
    "$$\n",
    "\n",
    "where $P_{inc}$ is the incident power and $Z_0$ the line characteristic impedance. "
   ]
  },
  {
   "cell_type": "markdown",
   "metadata": {},
   "source": [
    "So finally, the time-average power dissipation in W/m² in the conductor is:\n",
    "$$\n",
    "P_d =\n",
    " R \\frac{P_{inc} S}{Z_0 (\\pi D)^2}\n",
    "$$ "
   ]
  },
  {
   "cell_type": "code",
   "execution_count": 11,
   "metadata": {},
   "outputs": [],
   "source": [
    "# 9 inch 30 Ohm coxial line diameters [m]\n",
    "line_Dint = 140e-3\n",
    "line_Dout = 230e-3\n",
    "\n",
    "# T-resonator DUT [m]\n",
    "line_Dint = 128e-3\n",
    "line_Dout = 219e-3\n",
    "\n",
    "# conductor conductivity [S/m]\n",
    "line_sigma_Cu = 4.4e7# 5.8e7 # inner conductor\n",
    "line_sigma_Al = 3.5e7 # outer conductor\n",
    "\n",
    "# source frequency [Hz]\n",
    "line_freq = 60e6\n",
    "\n",
    "# Line SWR\n",
    "line_SWR = 2\n",
    "\n",
    "# Input power [Watts]\n",
    "line_Pinc = 0.5e6"
   ]
  },
  {
   "cell_type": "code",
   "execution_count": 12,
   "metadata": {},
   "outputs": [
    {
     "data": {
      "application/vnd.jupyter.widget-view+json": {
       "model_id": "e76ad64ec854429d9acd360c6aecfa07",
       "version_major": 2,
       "version_minor": 0
      },
      "text/plain": [
       "interactive(children=(FloatSlider(value=60.0, description='f_MHz', max=70.0, min=40.0), IntSlider(value=100, d…"
      ]
     },
     "metadata": {},
     "output_type": "display_data"
    }
   ],
   "source": [
    "def ohmic_losses_heat_flux(f, I_peak, D, sigma=5.8e7):\n",
    "    \"\"\"\n",
    "    Calculates the ohmic losses heat flux in [W/m^2] for a given current\n",
    "    on a coaxial conductor\n",
    "    \n",
    "    Args:\n",
    "        f : frequency [Hz]\n",
    "        I_peak : peak current [A]\n",
    "        D : conductor diameter [m]\n",
    "        sigma: conductor conductivity [S/m]. Default: copper value = 5.8e7 S/m\n",
    "        \n",
    "    Returns:\n",
    "        phi : ohmic losses heat flux [W/m^2]\n",
    "    \"\"\"\n",
    "    # surface resistance [Ohm]\n",
    "    Rs = 1/(skin_depth(f, sigma)*sigma) # sqrt(2.*pi*f*mu_0/(2.*sigma))\n",
    "    # RF resistive losses \n",
    "    phi = Rs/2 * abs(I_peak)**2 / (pi*D)**2\n",
    "    return phi\n",
    "\n",
    "@interact(f_MHz=(40,70,0.1), I_peak_A=(0,3000,1), D_mm=(50,500,10), sigma_1e7=(0, 6, 0.1))\n",
    "def widget_phi(f_MHz=line_freq/1e6, I_peak_A=100, D_mm=line_Dint/1e-3, sigma_1e7=line_sigma_Cu/1e7):\n",
    "    phi = ohmic_losses_heat_flux(f=f_MHz*1e6, I_peak=I_peak_A, D=D_mm*1e-3, sigma=sigma_1e7*1e7)\n",
    "    print('Heat Dissipation heat flux : phi={} W/m²'.format(phi))"
   ]
  },
  {
   "cell_type": "code",
   "execution_count": 13,
   "metadata": {},
   "outputs": [
    {
     "name": "stdout",
     "output_type": "stream",
     "text": [
      "Characteristic Impedance : Z0=32.200196221829984 Ohm\n"
     ]
    },
    {
     "data": {
      "application/vnd.jupyter.widget-view+json": {
       "model_id": "b447808d4931402f8bfdf1f19b3e8b2a",
       "version_major": 2,
       "version_minor": 0
      },
      "text/plain": [
       "interactive(children=(FloatSlider(value=0.5, description='Pin_MW', max=3.0, min=0.1), FloatSlider(value=2.0, d…"
      ]
     },
     "metadata": {},
     "output_type": "display_data"
    }
   ],
   "source": [
    "# coaxial line characteristic impedance\n",
    "line_Z0 = 1/(2*pi)*sqrt(mu_0/epsilon_0) * log(line_Dout/line_Dint)\n",
    "print('Characteristic Impedance : Z0={} Ohm'.format(line_Z0))\n",
    "\n",
    "def max_peak_current(Pin=1e6, SWR=1, Z0=30):\n",
    "    Imax = np.sqrt(2*Pin*SWR/Z0)\n",
    "    return Imax\n",
    "\n",
    "@interact(Pin_MW=(0.1, 3, 0.1), SWR=(1,5,0.1), Z0=(10, 70, 5))\n",
    "def widget_Imax(Pin_MW=line_Pinc/1e6, SWR=line_SWR, Z0=30):\n",
    "    Imax = max_peak_current(Pin_MW*1e6, SWR=SWR, Z0=Z0)\n",
    "    print('Maximum peak current in the line for SWR={} is I={} A'.format(line_SWR, Imax))"
   ]
  },
  {
   "cell_type": "code",
   "execution_count": 14,
   "metadata": {},
   "outputs": [
    {
     "data": {
      "text/plain": [
       "478.28660258574837"
      ]
     },
     "execution_count": 14,
     "metadata": {},
     "output_type": "execute_result"
    }
   ],
   "source": [
    "Imax=max_peak_current(Pin=1e6, SWR=1, Z0=30)\n",
    "\n",
    "# Ohmic loss in the inner conductor\n",
    "ohmic_losses_heat_flux(line_freq, I_peak=Imax, D=line_Dint, sigma=line_sigma_Cu)"
   ]
  },
  {
   "cell_type": "code",
   "execution_count": 15,
   "metadata": {},
   "outputs": [
    {
     "data": {
      "text/plain": [
       "183.19442017774338"
      ]
     },
     "execution_count": 15,
     "metadata": {},
     "output_type": "execute_result"
    }
   ],
   "source": [
    "# Ohmic loss in the outer conductor\n",
    "ohmic_losses_heat_flux(line_freq, Imax, D=line_Dout, sigma=line_sigma_Al)"
   ]
  }
 ],
 "metadata": {
  "kernelspec": {
   "display_name": "Python 3",
   "language": "python",
   "name": "python3"
  },
  "language_info": {
   "codemirror_mode": {
    "name": "ipython",
    "version": 3
   },
   "file_extension": ".py",
   "mimetype": "text/x-python",
   "name": "python",
   "nbconvert_exporter": "python",
   "pygments_lexer": "ipython3",
   "version": "3.6.5"
  },
  "widgets": {
   "state": {
    "095c58bac40f4e90a2975ce5b2983e47": {
     "views": [
      {
       "cell_index": 12
      }
     ]
    },
    "324bcc702f9f473faebf6c0fe0114c30": {
     "views": [
      {
       "cell_index": 11
      }
     ]
    }
   },
   "version": "1.2.0"
  }
 },
 "nbformat": 4,
 "nbformat_minor": 1
}
