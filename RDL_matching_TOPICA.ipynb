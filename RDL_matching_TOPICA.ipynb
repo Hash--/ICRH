{
 "metadata": {
  "name": "",
  "signature": "sha256:3c6a1c85347309d8e556da4e23e6f6de84b370769c44cc02f95b60300753553f"
 },
 "nbformat": 3,
 "nbformat_minor": 0,
 "worksheets": [
  {
   "cells": [
    {
     "cell_type": "code",
     "collapsed": false,
     "input": [
      "# autoreload reloads modules automatically before entering the execution of code typed at the IPython prompt.\n",
      "%load_ext autoreload\n",
      "%autoreload 2"
     ],
     "language": "python",
     "metadata": {},
     "outputs": [],
     "prompt_number": 1
    },
    {
     "cell_type": "code",
     "collapsed": false,
     "input": [
      "%pylab inline\n",
      "import sys\n",
      "sys.path.append(\"/Linux/scikit-rf/\")\n",
      "import skrf as rf # scikit-rf : object-oriented approach to microwave engineering"
     ],
     "language": "python",
     "metadata": {},
     "outputs": [
      {
       "output_type": "stream",
       "stream": "stdout",
       "text": [
        "Populating the interactive namespace from numpy and matplotlib\n",
        "warning: data module didnt load. dont worry about it."
       ]
      },
      {
       "output_type": "stream",
       "stream": "stdout",
       "text": [
        "\n",
        "\n",
        "WARNING: pyvisa not installed, virtual instruments will not be available\n",
        "\n"
       ]
      }
     ],
     "prompt_number": 2
    },
    {
     "cell_type": "markdown",
     "metadata": {},
     "source": [
      "Importing home-made classes."
     ]
    },
    {
     "cell_type": "code",
     "collapsed": false,
     "input": [
      "cd C:/Users/JH218595/Documents/Notebooks/WEST/ICRH"
     ],
     "language": "python",
     "metadata": {},
     "outputs": [
      {
       "output_type": "stream",
       "stream": "stdout",
       "text": [
        "C:\\Users\\JH218595\\Documents\\Notebooks\\WEST\\ICRH\n"
       ]
      }
     ],
     "prompt_number": 3
    },
    {
     "cell_type": "code",
     "collapsed": false,
     "input": [
      "from resonant_loop import ResonantLoop, ResonantDoubleLoop\n",
      "from TOPICA import TopicaResult"
     ],
     "language": "python",
     "metadata": {},
     "outputs": [],
     "prompt_number": 4
    },
    {
     "cell_type": "code",
     "collapsed": false,
     "input": [
      "import matplotlib.pylab as pylab\n",
      "pylab.rcParams['figure.figsize'] = 16, 8  # increase the default image size "
     ],
     "language": "python",
     "metadata": {},
     "outputs": [],
     "prompt_number": 5
    },
    {
     "cell_type": "heading",
     "level": 1,
     "metadata": {},
     "source": [
      "Importing the full-wave solutions"
     ]
    },
    {
     "cell_type": "markdown",
     "metadata": {},
     "source": [
      "We import the three devices of our electric circuit: the bridge, the impedance transformer and the window. As the default frequency range defined in skrf is the GHz, we set the frequency unit to MHz (this is only in order to have nicer plot after).  "
     ]
    },
    {
     "cell_type": "code",
     "collapsed": false,
     "input": [
      "bridge = rf.io.hfss_touchstone_2_network('WEST_ICRH/WEST_ICRH_final_bridge_impedance-trans_WEST-final-bridge-only.s3p', f_unit='MHz')\n",
      "impedance_transformer = rf.io.hfss_touchstone_2_network('WEST_ICRH/WEST_ICRH_final_bridge_impedance-trans_WEST-final-impedance-transformer.s2p', f_unit='MHz')\n",
      "window = rf.io.hfss_touchstone_2_network('WEST_ICRH/WEST_ICRH_final_bridge_impedance-trans_WEST-final-window.s2p', f_unit='MHz')"
     ],
     "language": "python",
     "metadata": {},
     "outputs": [],
     "prompt_number": 6
    },
    {
     "cell_type": "heading",
     "level": 1,
     "metadata": {},
     "source": [
      "TOPICA Matrix"
     ]
    },
    {
     "cell_type": "markdown",
     "metadata": {},
     "source": [
      "Here we connect a TOPICA coupling matrix to two resonant loops. Pay attention to the way TOPICA indexes the straps. \n",
      "$$\\begin{matrix}\n",
      "2 & | & 1 \\\\\n",
      "4 & | & 3\n",
      "\\end{matrix}$$\n",
      "cf figure below"
     ]
    },
    {
     "cell_type": "code",
     "collapsed": false,
     "input": [
      "from IPython.display import Image\n",
      "Image('network.png')"
     ],
     "language": "python",
     "metadata": {},
     "outputs": [
      {
       "metadata": {},
       "output_type": "pyout",
       "png": "[encoded data removed]",
       "prompt_number": 7,
       "text": [
        "<IPython.core.display.Image at 0xa531390>"
       ]
      }
     ],
     "prompt_number": 7
    },
    {
     "cell_type": "markdown",
     "metadata": {},
     "source": [
      "Parameters"
     ]
    },
    {
     "cell_type": "code",
     "collapsed": false,
     "input": [
      "f_match = 48e6 # matching frequency\n",
      "Z_match = [30+1j*0, 30+1j*0] # matching impedance \n",
      "a_in = [1, -1] # input power waves\n",
      "plasma_profile_nb = 8 # 1 to 8\n",
      "\n",
      "\n",
      "filename = 'WEST_ICRH/TOPICA/TSproto12_'+str(int(f_match/1e6))+'MHz/Zs_TSproto12_Profile'+str(int(plasma_profile_nb))+'.txt'"
     ],
     "language": "python",
     "metadata": {},
     "outputs": [],
     "prompt_number": 8
    },
    {
     "cell_type": "code",
     "collapsed": false,
     "input": [
      "# Characteristic Impedance depends of the prototype number.\n",
      "# TSproto10: 13.7 Ohm\n",
      "# TSproto12: 46.7 Ohm\n",
      "plasma_TOPICA = TopicaResult(filename, z0=46.7).to_skrf_network(bridge.frequency)\n",
      "\n",
      "RL1 = ResonantLoop(bridge, impedance_transformer, window)\n",
      "RL2 = ResonantLoop(bridge, impedance_transformer, window) \n",
      "# take care that RL objects passed to the constructor are not the same one ! (otherwise the capactors would be the same!)\n",
      "RDL = ResonantDoubleLoop(RL1, RL2, plasma_TOPICA) \n",
      "\n",
      "sol_TOPICA = RDL.match(a_in, f_match, Z_match)"
     ],
     "language": "python",
     "metadata": {},
     "outputs": [
      {
       "output_type": "stream",
       "stream": "stderr",
       "text": [
        "C:\\Users\\JH218595\\Documents\\WinPython-64bit-2.7.6.4\\python-2.7.6.amd64\\lib\\site-packages\\scipy\\optimize\\minpack.py:236: RuntimeWarning: The iteration is not making good progress, as measured by the \n",
        "  improvement from the last ten iterations.\n",
        "  warnings.warn(msg, RuntimeWarning)\n",
        "C:\\Users\\JH218595\\Documents\\WinPython-64bit-2.7.6.4\\python-2.7.6.amd64\\lib\\site-packages\\scipy\\optimize\\minpack.py:236: RuntimeWarning: The iteration is not making good progress, as measured by the \n",
        "  improvement from the last five Jacobian evaluations.\n",
        "  warnings.warn(msg, RuntimeWarning)\n"
       ]
      },
      {
       "output_type": "stream",
       "stream": "stdout",
       "text": [
        "(False, array([ 192.5603914 ,  111.3518316 ,  108.19565948,  204.67845977]))\n",
        "Bad solution found (out of range capacitor) ! Re-doing...\n",
        "(False, array([ 221.84550401,  103.4567653 ,  431.5660376 ,   84.6643687 ]))"
       ]
      },
      {
       "output_type": "stream",
       "stream": "stdout",
       "text": [
        "\n",
        "Bad solution found (out of range capacitor) ! Re-doing...\n",
        "Bad solution found (out of range capacitor) ! Re-doing...\n",
        "(False, array([  78.00094855,  738.97413865,  197.10659903,  110.43513745]))"
       ]
      },
      {
       "output_type": "stream",
       "stream": "stdout",
       "text": [
        "\n",
        "Bad solution found (out of range capacitor) ! Re-doing...\n",
        "(False, array([ 111.96799271,  190.73860635,  189.76521532,  112.88873026]))"
       ]
      },
      {
       "output_type": "stream",
       "stream": "stdout",
       "text": [
        "\n",
        "(False, array([ 481.7670021 ,   82.65975178,   93.82971073,  288.11618203]))"
       ]
      },
      {
       "output_type": "stream",
       "stream": "stdout",
       "text": [
        "\n",
        "Bad solution found (out of range capacitor) ! Re-doing...\n",
        "Bad solution found (out of range capacitor) ! Re-doing...\n",
        "(False, array([ 86.6603539 ,  24.39449438,  85.92431591,  99.03615696]))"
       ]
      },
      {
       "output_type": "stream",
       "stream": "stdout",
       "text": [
        "\n",
        "(False, array([  106.34315982,   209.64461159,    75.87080801,  1054.62424507]))"
       ]
      }
     ]
    },
    {
     "cell_type": "markdown",
     "metadata": {},
     "source": [
      "For the same set of capacitor values found, we vary the plasma loads (from plasma reference indexes 1 to 8) and plot scattering parameters and VSWR"
     ]
    },
    {
     "cell_type": "code",
     "collapsed": false,
     "input": [
      "# 8x2=16 subplots : left column are Sii and right are active Si\n",
      "f, axarr = plt.subplots(8, 2, sharex=True, sharey=True)\n",
      "# make subplots clSose to each other and hide x ticks for all but bottom plots.\n",
      "f.subplots_adjust(hspace=0)\n",
      "plt.setp([a.get_xticklabels() for a in f.axes[:-2]], visible=False)\n",
      "# titles and axes labels\n",
      "axarr[0,0].set_title('S11 and S22')\n",
      "axarr[0,1].set_title('S1active and S2active')\n",
      "axarr[7,0].set_xlabel('f [MHz]')\n",
      "axarr[7,1].set_xlabel('f [MHz]')\n",
      "# let's go Marco !\n",
      "for id in xrange(8):\n",
      "    RDL.plasma = TOPICA_2_network('WEST_ICRH/TOPICA/TSproto12_'+str(int(f_match/1e6))+'MHz/Zs_TSproto12_Profile'+str(id+1)+'.txt')\n",
      "    # S11 and S22\n",
      "    axarr[id, 0].plot(RDL.get_f()/1e6, RDL.get_network().s_db[:,0,0], lw=2)\n",
      "    axarr[id, 0].plot(RDL.get_f()/1e6, RDL.get_network().s_db[:,1,1], lw=2)\n",
      "    axarr[id, 0].grid(True)\n",
      "    axarr[id, 0].set_ylabel('[dB]' )\n",
      "    \n",
      "    # Sactive1 and Sactive2\n",
      "    Sact = RDL.get_s_active(a_in)\n",
      "    axarr[id, 1].plot(RDL.get_f()/1e6, 20*np.log10(np.abs(Sact[:,0])), lw=2)\n",
      "    axarr[id, 1].plot(RDL.get_f()/1e6, 20*np.log10(np.abs(Sact[:,1])), lw=2)\n",
      "    axarr[id, 1].grid(True)\n",
      "    "
     ],
     "language": "python",
     "metadata": {},
     "outputs": [
      {
       "ename": "NameError",
       "evalue": "name 'TOPICA_2_network' is not defined",
       "output_type": "pyerr",
       "traceback": [
        "\u001b[1;31m---------------------------------------------------------------------------\u001b[0m\n\u001b[1;31mNameError\u001b[0m                                 Traceback (most recent call last)",
        "\u001b[1;32m<ipython-input-16-2fd06bfa41a8>\u001b[0m in \u001b[0;36m<module>\u001b[1;34m()\u001b[0m\n\u001b[0;32m     11\u001b[0m \u001b[1;31m# let's go Marco !\u001b[0m\u001b[1;33m\u001b[0m\u001b[1;33m\u001b[0m\u001b[0m\n\u001b[0;32m     12\u001b[0m \u001b[1;32mfor\u001b[0m \u001b[0mid\u001b[0m \u001b[1;32min\u001b[0m \u001b[0mxrange\u001b[0m\u001b[1;33m(\u001b[0m\u001b[1;36m8\u001b[0m\u001b[1;33m)\u001b[0m\u001b[1;33m:\u001b[0m\u001b[1;33m\u001b[0m\u001b[0m\n\u001b[1;32m---> 13\u001b[1;33m     \u001b[0mRDL\u001b[0m\u001b[1;33m.\u001b[0m\u001b[0mplasma\u001b[0m \u001b[1;33m=\u001b[0m \u001b[0mTOPICA_2_network\u001b[0m\u001b[1;33m(\u001b[0m\u001b[1;34m'WEST_ICRH/TOPICA/TSproto12_'\u001b[0m\u001b[1;33m+\u001b[0m\u001b[0mstr\u001b[0m\u001b[1;33m(\u001b[0m\u001b[0mint\u001b[0m\u001b[1;33m(\u001b[0m\u001b[0mf_match\u001b[0m\u001b[1;33m/\u001b[0m\u001b[1;36m1e6\u001b[0m\u001b[1;33m)\u001b[0m\u001b[1;33m)\u001b[0m\u001b[1;33m+\u001b[0m\u001b[1;34m'MHz/Zs_TSproto12_Profile'\u001b[0m\u001b[1;33m+\u001b[0m\u001b[0mstr\u001b[0m\u001b[1;33m(\u001b[0m\u001b[0mid\u001b[0m\u001b[1;33m+\u001b[0m\u001b[1;36m1\u001b[0m\u001b[1;33m)\u001b[0m\u001b[1;33m+\u001b[0m\u001b[1;34m'.txt'\u001b[0m\u001b[1;33m)\u001b[0m\u001b[1;33m\u001b[0m\u001b[0m\n\u001b[0m\u001b[0;32m     14\u001b[0m     \u001b[1;31m# S11 and S22\u001b[0m\u001b[1;33m\u001b[0m\u001b[1;33m\u001b[0m\u001b[0m\n\u001b[0;32m     15\u001b[0m     \u001b[0maxarr\u001b[0m\u001b[1;33m[\u001b[0m\u001b[0mid\u001b[0m\u001b[1;33m,\u001b[0m \u001b[1;36m0\u001b[0m\u001b[1;33m]\u001b[0m\u001b[1;33m.\u001b[0m\u001b[0mplot\u001b[0m\u001b[1;33m(\u001b[0m\u001b[0mRDL\u001b[0m\u001b[1;33m.\u001b[0m\u001b[0mget_f\u001b[0m\u001b[1;33m(\u001b[0m\u001b[1;33m)\u001b[0m\u001b[1;33m/\u001b[0m\u001b[1;36m1e6\u001b[0m\u001b[1;33m,\u001b[0m \u001b[0mRDL\u001b[0m\u001b[1;33m.\u001b[0m\u001b[0mget_network\u001b[0m\u001b[1;33m(\u001b[0m\u001b[1;33m)\u001b[0m\u001b[1;33m.\u001b[0m\u001b[0ms_db\u001b[0m\u001b[1;33m[\u001b[0m\u001b[1;33m:\u001b[0m\u001b[1;33m,\u001b[0m\u001b[1;36m0\u001b[0m\u001b[1;33m,\u001b[0m\u001b[1;36m0\u001b[0m\u001b[1;33m]\u001b[0m\u001b[1;33m,\u001b[0m \u001b[0mlw\u001b[0m\u001b[1;33m=\u001b[0m\u001b[1;36m2\u001b[0m\u001b[1;33m)\u001b[0m\u001b[1;33m\u001b[0m\u001b[0m\n",
        "\u001b[1;31mNameError\u001b[0m: name 'TOPICA_2_network' is not defined"
       ]
      },
      {
       "metadata": {},
       "output_type": "display_data",
       "png": "[encoded data removed]",
       "text": [
        "<matplotlib.figure.Figure at 0x15a5bf60>"
       ]
      }
     ],
     "prompt_number": 16
    },
    {
     "cell_type": "code",
     "collapsed": false,
     "input": [
      "for id in xrange(1, 9):    \n",
      "    RDL.plasma = TOPICA_2_network('WEST_ICRH/TOPICA/TSproto12_'+str(int(f_match/1e6))+'MHz/Zs_TSproto12_Profile'+str(id)+'.txt')\n",
      "    VSWR_active = RDL.get_vswr_active(a_in)\n",
      "\n",
      "    subplot(1,2,1)\n",
      "    plot(RDL.get_f()/1e6, VSWR_active[:,0] , lw=2)\n",
      "    axis([40,60,1,6])\n",
      "    grid('on')\n",
      "    title('\"Active\" VSWR Port 1')\n",
      "    \n",
      "    subplot(1,2,2)\n",
      "    plot(RDL.get_f()/1e6, VSWR_active[:,1] , lw=2)    \n",
      "    axis([40,60,1,6])\n",
      "    grid('on')\n",
      "    title('\"Active\" VSWR Port 2')\n",
      "\n"
     ],
     "language": "python",
     "metadata": {},
     "outputs": [
      {
       "ename": "NameError",
       "evalue": "name 'TOPICA_2_network' is not defined",
       "output_type": "pyerr",
       "traceback": [
        "\u001b[1;31m---------------------------------------------------------------------------\u001b[0m\n\u001b[1;31mNameError\u001b[0m                                 Traceback (most recent call last)",
        "\u001b[1;32m<ipython-input-15-b66cce7e6edc>\u001b[0m in \u001b[0;36m<module>\u001b[1;34m()\u001b[0m\n\u001b[0;32m      1\u001b[0m \u001b[1;32mfor\u001b[0m \u001b[0mid\u001b[0m \u001b[1;32min\u001b[0m \u001b[0mxrange\u001b[0m\u001b[1;33m(\u001b[0m\u001b[1;36m1\u001b[0m\u001b[1;33m,\u001b[0m \u001b[1;36m9\u001b[0m\u001b[1;33m)\u001b[0m\u001b[1;33m:\u001b[0m\u001b[1;33m\u001b[0m\u001b[0m\n\u001b[1;32m----> 2\u001b[1;33m     \u001b[0mRDL\u001b[0m\u001b[1;33m.\u001b[0m\u001b[0mplasma\u001b[0m \u001b[1;33m=\u001b[0m \u001b[0mTOPICA_2_network\u001b[0m\u001b[1;33m(\u001b[0m\u001b[1;34m'WEST_ICRH/TOPICA/TSproto12_'\u001b[0m\u001b[1;33m+\u001b[0m\u001b[0mstr\u001b[0m\u001b[1;33m(\u001b[0m\u001b[0mint\u001b[0m\u001b[1;33m(\u001b[0m\u001b[0mf_match\u001b[0m\u001b[1;33m/\u001b[0m\u001b[1;36m1e6\u001b[0m\u001b[1;33m)\u001b[0m\u001b[1;33m)\u001b[0m\u001b[1;33m+\u001b[0m\u001b[1;34m'MHz/Zs_TSproto12_Profile'\u001b[0m\u001b[1;33m+\u001b[0m\u001b[0mstr\u001b[0m\u001b[1;33m(\u001b[0m\u001b[0mid\u001b[0m\u001b[1;33m)\u001b[0m\u001b[1;33m+\u001b[0m\u001b[1;34m'.txt'\u001b[0m\u001b[1;33m)\u001b[0m\u001b[1;33m\u001b[0m\u001b[0m\n\u001b[0m\u001b[0;32m      3\u001b[0m     \u001b[0mVSWR_active\u001b[0m \u001b[1;33m=\u001b[0m \u001b[0mRDL\u001b[0m\u001b[1;33m.\u001b[0m\u001b[0mget_vswr_active\u001b[0m\u001b[1;33m(\u001b[0m\u001b[0ma_in\u001b[0m\u001b[1;33m)\u001b[0m\u001b[1;33m\u001b[0m\u001b[0m\n\u001b[0;32m      4\u001b[0m \u001b[1;33m\u001b[0m\u001b[0m\n\u001b[0;32m      5\u001b[0m     \u001b[0msubplot\u001b[0m\u001b[1;33m(\u001b[0m\u001b[1;36m1\u001b[0m\u001b[1;33m,\u001b[0m\u001b[1;36m2\u001b[0m\u001b[1;33m,\u001b[0m\u001b[1;36m1\u001b[0m\u001b[1;33m)\u001b[0m\u001b[1;33m\u001b[0m\u001b[0m\n",
        "\u001b[1;31mNameError\u001b[0m: name 'TOPICA_2_network' is not defined"
       ]
      }
     ],
     "prompt_number": 15
    },
    {
     "cell_type": "heading",
     "level": 1,
     "metadata": {},
     "source": [
      "Sweep over plasma profiles"
     ]
    },
    {
     "cell_type": "markdown",
     "metadata": {},
     "source": [
      "At a given frequency, we sweep over the eight plasma profiles. For each plasma profile, we seek for the match point and store the match points found. The match points vs the plasma profile are then plot.  "
     ]
    },
    {
     "cell_type": "code",
     "collapsed": false,
     "input": [
      "f_match = 48e6 # matching frequency\n",
      "Z_match = [30+1j*0, 30+1j*0] # matching impedance \n",
      "a_in = [1, -1] # input power waves"
     ],
     "language": "python",
     "metadata": {},
     "outputs": [],
     "prompt_number": 10
    },
    {
     "cell_type": "code",
     "collapsed": false,
     "input": [
      "RL1 = ResonantLoop(bridge, impedance_transformer, window)\n",
      "RL2 = ResonantLoop(bridge, impedance_transformer, window) \n",
      "C_vs_plasma_profile = np.zeros((8,4)) # 8 profiles, 4 capacitor values\n",
      "\n",
      "for id_profile in xrange(1, 9):\n",
      "    filename = 'WEST_ICRH/TOPICA/TSproto12_'+str(int(f_match/1e6))+'MHz/Zs_TSproto12_Profile'+str(id_profile)+'.txt'\n",
      "    print('========== '+filename)\n",
      "    plasma_TOPICA = TopicaResult(filename, z0=46.7).to_skrf_network(bridge.frequency)\n",
      "    RDL = ResonantDoubleLoop(RL1, RL2, plasma_TOPICA) \n",
      "\n",
      "    sol_TOPICA = RDL.match(a_in, f_match, Z_match)\n",
      "    C_vs_plasma_profile[id_profile-1, :] = sol_TOPICA.x\n",
      "    "
     ],
     "language": "python",
     "metadata": {},
     "outputs": [
      {
       "output_type": "stream",
       "stream": "stdout",
       "text": [
        "========== WEST_ICRH/TOPICA/TSproto12_48MHz/Zs_TSproto12_Profile1.txt\n",
        "False"
       ]
      },
      {
       "output_type": "stream",
       "stream": "stdout",
       "text": [
        " [    80.75406355     91.83345529 -58626.38545377     82.17617346]\n",
        "Bad solution found (out of range capacitor) ! Re-doing...\n",
        "False"
       ]
      },
      {
       "output_type": "stream",
       "stream": "stdout",
       "text": [
        " [  8.19355957e+01  -1.55036804e+06   9.16895681e+01   8.06773030e+01]\n",
        "Bad solution found (out of range capacitor) ! Re-doing...\n",
        "False"
       ]
      },
      {
       "output_type": "stream",
       "stream": "stdout",
       "text": [
        " [ -1.11767962e+03   8.14502011e+01   8.17101978e+01  -2.03562847e+06]\n",
        "Bad solution found (out of range capacitor) ! Re-doing...\n",
        "Bad solution found (out of range capacitor) ! Re-doing...\n",
        "False"
       ]
      },
      {
       "output_type": "stream",
       "stream": "stdout",
       "text": [
        " [ 110.38614393  103.44351478   22.99779909   17.97470142]\n",
        "False"
       ]
      },
      {
       "output_type": "stream",
       "stream": "stdout",
       "text": [
        " [  8.07507242e+01   9.18479799e+01  -1.09273580e+06   8.18596903e+01]\n",
        "Bad solution found (out of range capacitor) ! Re-doing...\n",
        "False"
       ]
      },
      {
       "output_type": "stream",
       "stream": "stdout",
       "text": [
        " [  3.08878698e+24   8.14350641e+01   8.25803242e+01   6.67025479e+21]\n",
        "Bad solution found (out of range capacitor) ! Re-doing...\n",
        "Bad solution found (out of range capacitor) ! Re-doing...\n",
        "False"
       ]
      },
      {
       "output_type": "stream",
       "stream": "stdout",
       "text": [
        " [ 56.51083084  18.37960583  32.23829289  19.74599585]\n",
        "False"
       ]
      },
      {
       "output_type": "stream",
       "stream": "stdout",
       "text": [
        " [   81.89716945 -5714.71312337    91.69027074    80.67746183]\n",
        "Bad solution found (out of range capacitor) ! Re-doing...\n",
        "True"
       ]
      },
      {
       "output_type": "stream",
       "stream": "stdout",
       "text": [
        " [ 92.22588845  80.39008184  80.67056269  91.79646113]\n",
        "[ 92.22588845  80.39008184  80.67056269  91.79646113]\n",
        "========== WEST_ICRH/TOPICA/TSproto12_48MHz/Zs_TSproto12_Profile2.txt\n",
        "False"
       ]
      },
      {
       "output_type": "stream",
       "stream": "stdout",
       "text": [
        " [  9.30837975e+01   8.04403561e+01   8.22890078e+01  -1.54647829e+05]\n",
        "Bad solution found (out of range capacitor) ! Re-doing...\n",
        "False"
       ]
      },
      {
       "output_type": "stream",
       "stream": "stdout",
       "text": [
        " [ -2.57183891e+07   8.17924603e+01  -9.90510858e+02   8.21690439e+01]\n",
        "Bad solution found (out of range capacitor) ! Re-doing...\n",
        "Bad solution found (out of range capacitor) ! Re-doing...\n",
        "False"
       ]
      },
      {
       "output_type": "stream",
       "stream": "stdout",
       "text": [
        " [  1.54180839e+08   8.18609468e+01   8.05751154e+01   9.25212998e+01]\n",
        "Bad solution found (out of range capacitor) ! Re-doing...\n",
        "False"
       ]
      },
      {
       "output_type": "stream",
       "stream": "stdout",
       "text": [
        " [ -5.73212672e+09   8.22100787e+01   9.32557410e+01   8.08080244e+01]\n",
        "Bad solution found (out of range capacitor) ! Re-doing...\n",
        "False"
       ]
      },
      {
       "output_type": "stream",
       "stream": "stdout",
       "text": [
        " [ -5.25792182e+05   8.17442602e+01   9.32611472e+01   8.08244363e+01]\n",
        "Bad solution found (out of range capacitor) ! Re-doing...\n",
        "False"
       ]
      },
      {
       "output_type": "stream",
       "stream": "stdout",
       "text": [
        " [  8.21797288e+01   1.52105174e+09   8.28168552e+01   1.29501388e+02]\n",
        "Bad solution found (out of range capacitor) ! Re-doing...\n",
        "False"
       ]
      },
      {
       "output_type": "stream",
       "stream": "stdout",
       "text": [
        " [  8.21784501e+01  -1.63394847e+05   8.19249824e+01  -8.72855752e+03]\n",
        "Bad solution found (out of range capacitor) ! Re-doing...\n",
        "Bad solution found (out of range capacitor) ! Re-doing...\n",
        "False"
       ]
      },
      {
       "output_type": "stream",
       "stream": "stdout",
       "text": [
        " [  9.38741478e+01   8.04386977e+01   8.23449906e+01   8.91378424e+13]\n",
        "Bad solution found (out of range capacitor) ! Re-doing...\n",
        "False"
       ]
      },
      {
       "output_type": "stream",
       "stream": "stdout",
       "text": [
        " [ -5.55575075e+05   8.20866813e+01   9.32210436e+01   8.08126620e+01]\n",
        "Bad solution found (out of range capacitor) ! Re-doing...\n",
        "False"
       ]
      },
      {
       "output_type": "stream",
       "stream": "stdout",
       "text": [
        " [    82.2089813  -54469.97656904    473.52363561     82.03087762]\n",
        "Bad solution found (out of range capacitor) ! Re-doing...\n",
        "Bad solution found (out of range capacitor) ! Re-doing...\n",
        "False"
       ]
      },
      {
       "output_type": "stream",
       "stream": "stdout",
       "text": [
        " [  8.04735904e+01   9.42637750e+01   1.37858843e+12   8.22575171e+01]\n",
        "Bad solution found (out of range capacitor) ! Re-doing...\n",
        "False"
       ]
      },
      {
       "output_type": "stream",
       "stream": "stdout",
       "text": [
        " [  9.30846845e+01   8.04405044e+01   8.22872770e+01  -1.76896576e+05]\n",
        "Bad solution found (out of range capacitor) ! Re-doing...\n",
        "False"
       ]
      },
      {
       "output_type": "stream",
       "stream": "stdout",
       "text": [
        " [  8.23733380e+01  -6.44075122e+05   9.23111951e+01   8.06675135e+01]\n",
        "Bad solution found (out of range capacitor) ! Re-doing...\n",
        "True"
       ]
      },
      {
       "output_type": "stream",
       "stream": "stdout",
       "text": [
        " [ 80.91669875  92.47155266  92.26921634  80.89631097]\n",
        "[ 80.91669875  92.47155266  92.26921634  80.89631097]\n",
        "========== WEST_ICRH/TOPICA/TSproto12_48MHz/Zs_TSproto12_Profile3.txt\n",
        "False"
       ]
      },
      {
       "output_type": "stream",
       "stream": "stdout",
       "text": [
        " [  8.26223208e+01   1.73718775e+01   8.21688762e+01  -1.91925185e+07]\n",
        "Bad solution found (out of range capacitor) ! Re-doing...\n",
        "False"
       ]
      },
      {
       "output_type": "stream",
       "stream": "stdout",
       "text": [
        " [-58779.6397667      82.20985524     80.57167249     92.92098559]\n",
        "Bad solution found (out of range capacitor) ! Re-doing...\n",
        "False"
       ]
      },
      {
       "output_type": "stream",
       "stream": "stdout",
       "text": [
        " [  8.22339821e+01   2.25121626e+02   8.21218036e+01  -5.59510880e+05]\n",
        "Bad solution found (out of range capacitor) ! Re-doing...\n",
        "Bad solution found (out of range capacitor) ! Re-doing...\n",
        "False"
       ]
      },
      {
       "output_type": "stream",
       "stream": "stdout",
       "text": [
        " [  8.08085614e+01   9.29764957e+01  -4.07119964e+06   8.27441039e+01]\n",
        "Bad solution found (out of range capacitor) ! Re-doing...\n",
        "False"
       ]
      },
      {
       "output_type": "stream",
       "stream": "stdout",
       "text": [
        " [  8.39081274e+01   1.52644631e+02   9.20751471e+32   8.25734479e+01]\n",
        "Bad solution found (out of range capacitor) ! Re-doing...\n",
        "True"
       ]
      },
      {
       "output_type": "stream",
       "stream": "stdout",
       "text": [
        " [ 81.11245257  93.07188182  92.75286088  81.05548136]\n",
        "[ 81.11245257  93.07188182  92.75286088  81.05548136]\n",
        "========== WEST_ICRH/TOPICA/TSproto12_48MHz/Zs_TSproto12_Profile4.txt\n",
        "False"
       ]
      },
      {
       "output_type": "stream",
       "stream": "stdout",
       "text": [
        " [  8.25912576e+01  -1.33179207e+02   8.24799356e+01  -5.59477116e+05]\n",
        "Bad solution found (out of range capacitor) ! Re-doing...\n",
        "Bad solution found (out of range capacitor) ! Re-doing...\n",
        "False"
       ]
      },
      {
       "output_type": "stream",
       "stream": "stdout",
       "text": [
        " [  8.27598347e+01   1.60945911e+08   1.26115293e+02   8.22131522e+01]\n",
        "Bad solution found (out of range capacitor) ! Re-doing...\n",
        "False"
       ]
      },
      {
       "output_type": "stream",
       "stream": "stdout",
       "text": [
        " [  9.41048121e+01   8.05604958e+01   8.31231100e+01  -9.62698690e+04]\n",
        "Bad solution found (out of range capacitor) ! Re-doing...\n",
        "True"
       ]
      },
      {
       "output_type": "stream",
       "stream": "stdout",
       "text": [
        " [ 95.7043134   80.17673439  95.73987778  80.38641   ]\n",
        "[ 95.7043134   80.17673439  95.73987778  80.38641   ]\n",
        "========== WEST_ICRH/TOPICA/TSproto12_48MHz/Zs_TSproto12_Profile5.txt\n",
        "False"
       ]
      },
      {
       "output_type": "stream",
       "stream": "stderr",
       "text": [
        "C:\\Users\\JH218595\\Documents\\WinPython-64bit-2.7.6.2\\python-2.7.6.amd64\\lib\\site-packages\\scipy\\optimize\\minpack.py:236: RuntimeWarning: The iteration is not making good progress, as measured by the \n",
        "  improvement from the last ten iterations.\n",
        "  warnings.warn(msg, RuntimeWarning)\n",
        "C:\\Users\\JH218595\\Documents\\WinPython-64bit-2.7.6.2\\python-2.7.6.amd64\\lib\\site-packages\\scipy\\optimize\\minpack.py:236: RuntimeWarning: The iteration is not making good progress, as measured by the \n",
        "  improvement from the last five Jacobian evaluations.\n",
        "  warnings.warn(msg, RuntimeWarning)\n"
       ]
      },
      {
       "output_type": "stream",
       "stream": "stdout",
       "text": [
        " [  8.28148656e+01   8.75202887e+02  -8.26709600e+06   8.28126050e+01]\n",
        "Bad solution found (out of range capacitor) ! Re-doing...\n",
        "Bad solution found (out of range capacitor) ! Re-doing...\n",
        "False"
       ]
      },
      {
       "output_type": "stream",
       "stream": "stdout",
       "text": [
        " [ 4062.60747005    81.93773322    96.99046519    81.27015029]\n",
        "Bad solution found (out of range capacitor) ! Re-doing...\n",
        "False"
       ]
      },
      {
       "output_type": "stream",
       "stream": "stdout",
       "text": [
        " [  32.24470656   42.65973944   56.10308249  111.13859984]\n",
        "False"
       ]
      },
      {
       "output_type": "stream",
       "stream": "stdout",
       "text": [
        " [ -7.63839368e+07   8.21371781e+01   1.59869156e+02   8.25290250e+01]\n",
        "Bad solution found (out of range capacitor) ! Re-doing...\n",
        "True"
       ]
      },
      {
       "output_type": "stream",
       "stream": "stdout",
       "text": [
        " [ 95.32288692  81.14103912  81.24923777  93.61594787]\n",
        "[ 95.32288692  81.14103912  81.24923777  93.61594787]\n",
        "========== WEST_ICRH/TOPICA/TSproto12_48MHz/Zs_TSproto12_Profile6.txt\n",
        "True"
       ]
      },
      {
       "output_type": "stream",
       "stream": "stdout",
       "text": [
        " [ 96.89325744  81.40925135  81.29284628  94.1664175 ]\n",
        "[ 96.89325744  81.40925135  81.29284628  94.1664175 ]\n",
        "========== WEST_ICRH/TOPICA/TSproto12_48MHz/Zs_TSproto12_Profile7.txt\n",
        "False"
       ]
      },
      {
       "output_type": "stream",
       "stream": "stdout",
       "text": [
        " [ -6.12307260e+05   8.25932367e+01   1.62386254e+02   8.31767113e+01]\n",
        "Bad solution found (out of range capacitor) ! Re-doing...\n",
        "False"
       ]
      },
      {
       "output_type": "stream",
       "stream": "stdout",
       "text": [
        " [ -2.52874685e+08   8.36305003e+01   7.33599083e+01   8.73490570e+01]\n",
        "Bad solution found (out of range capacitor) ! Re-doing...\n",
        "True"
       ]
      },
      {
       "output_type": "stream",
       "stream": "stdout",
       "text": [
        " [ 97.28546564  81.74439645  81.3760221   94.30405365]\n",
        "[ 97.28546564  81.74439645  81.3760221   94.30405365]\n",
        "========== WEST_ICRH/TOPICA/TSproto12_48MHz/Zs_TSproto12_Profile8.txt\n",
        "True"
       ]
      },
      {
       "output_type": "stream",
       "stream": "stdout",
       "text": [
        " [ 98.37055884  82.05152604  81.48405829  94.46938967]\n",
        "[ 98.37055884  82.05152604  81.48405829  94.46938967]\n"
       ]
      }
     ],
     "prompt_number": 12
    },
    {
     "cell_type": "code",
     "collapsed": false,
     "input": [
      "C_vs_plasma_profile/1e-12"
     ],
     "language": "python",
     "metadata": {},
     "outputs": [
      {
       "metadata": {},
       "output_type": "pyout",
       "prompt_number": 13,
       "text": [
        "array([[ 92.22588845,  80.39008184,  80.67056269,  91.79646113],\n",
        "       [ 80.91669875,  92.47155266,  92.26921634,  80.89631097],\n",
        "       [ 81.11245257,  93.07188182,  92.75286088,  81.05548136],\n",
        "       [ 95.7043134 ,  80.17673439,  95.73987778,  80.38641   ],\n",
        "       [ 95.32288692,  81.14103912,  81.24923777,  93.61594787],\n",
        "       [ 96.89325744,  81.40925135,  81.29284628,  94.1664175 ],\n",
        "       [ 97.28546564,  81.74439645,  81.3760221 ,  94.30405365],\n",
        "       [ 98.37055884,  82.05152604,  81.48405829,  94.46938967]])"
       ]
      }
     ],
     "prompt_number": 13
    },
    {
     "cell_type": "code",
     "collapsed": false,
     "input": [
      "plot(xrange(1,9), C_vs_plasma_profile/1e-12, 'o', markersize=14 )\n",
      "grid()\n",
      "title('Capacitor values (1st solution found) vs plasma profile \\n' \n",
      "      'f_match='+str(f_match/1e6)+' MHz \\n'\n",
      "      'Excitation: a='+str(a_in),  fontsize=16 )\n",
      "xlabel('L-Mode Plasma profile',  fontsize=16)\n",
      "ylabel('Capacitor value [pF]',  fontsize=16)\n",
      "legend(('C1H', 'C1B' , 'C2H', 'C2B'), loc='best')\n",
      "axis([0.2, 8.8, 20, 100])"
     ],
     "language": "python",
     "metadata": {},
     "outputs": [
      {
       "metadata": {},
       "output_type": "pyout",
       "prompt_number": 14,
       "text": [
        "[0.2, 8.8, 20, 100]"
       ]
      },
      {
       "metadata": {},
       "output_type": "display_data",
       "png": "[encoded data removed]",
       "text": [
        "<matplotlib.figure.Figure at 0x15a5beb8>"
       ]
      }
     ],
     "prompt_number": 14
    },
    {
     "cell_type": "heading",
     "level": 1,
     "metadata": {},
     "source": [
      "Currents and Voltages at capacitors"
     ]
    },
    {
     "cell_type": "markdown",
     "metadata": {},
     "source": [
      "In this section we explore the currents and voltages at the capacitors for a prescribed input. "
     ]
    },
    {
     "cell_type": "code",
     "collapsed": false,
     "input": [],
     "language": "python",
     "metadata": {},
     "outputs": []
    }
   ],
   "metadata": {}
  }
 ]
}