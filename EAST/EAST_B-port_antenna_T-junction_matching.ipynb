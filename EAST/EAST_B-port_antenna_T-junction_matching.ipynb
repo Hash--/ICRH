{
 "metadata": {
  "name": "",
  "signature": "sha256:2f4e52ee8d551dd19468f36d9504d2dce357a09cf96e09fb11d061b3c5e8a727"
 },
 "nbformat": 3,
 "nbformat_minor": 0,
 "worksheets": [
  {
   "cells": [
    {
     "cell_type": "heading",
     "level": 1,
     "metadata": {},
     "source": [
      "Introduction"
     ]
    },
    {
     "cell_type": "markdown",
     "metadata": {},
     "source": [
      "In this notebook we look for the possibility to use the EAST B-port antenna front face, made of 2x2 straps (the loading on a dielectric medium example is evaluated from HFSS), in an ELM-resilient electrical layout. The ELM resilient is achieved here by using a complex conjugated T-junction connected to poloidal pairs of straps. "
     ]
    },
    {
     "cell_type": "markdown",
     "metadata": {},
     "source": [
      "First of all, we make here the preliminary Python packages importation."
     ]
    },
    {
     "cell_type": "code",
     "collapsed": false,
     "input": [
      "import sys\n",
      "sys.path.append('/Linux/skrf_ref/scikit-rf/') # add the directory to Python PATH\n",
      "import skrf as rf"
     ],
     "language": "python",
     "metadata": {},
     "outputs": [],
     "prompt_number": 1
    },
    {
     "cell_type": "heading",
     "level": 1,
     "metadata": {},
     "source": [
      "EAST B-port front face model import"
     ]
    },
    {
     "cell_type": "markdown",
     "metadata": {},
     "source": [
      "In the above, we import from HFSS modeling the EAST B-port front face, from the Touchstone HFSS export"
     ]
    },
    {
     "cell_type": "code",
     "collapsed": false,
     "input": [
      "# front face ports characteristic impedance [Ohm]\n",
      "front_face_Z0 = 2.472487E+001 \n",
      "\n",
      "# Matching impedance\n",
      "# Impedance seens at the T junction when matched [Ohm]\n",
      "T_Z0 = 40\n",
      "\n",
      "# characteristic impedance of the T junction feeding port. [Ohm]\n",
      "Z_in = 4"
     ],
     "language": "python",
     "metadata": {},
     "outputs": [],
     "prompt_number": 2
    },
    {
     "cell_type": "code",
     "collapsed": false,
     "input": [
      "front_face_touchstone_file = 'C:\\Users\\JH218595\\Documents\\Notebooks\\WEST\\ICRH\\EAST\\EAST_ICRH_BportAntenna_EAST_ICRH_BportAntenna_2.s4p'\n",
      "front_face = rf.io.hfss_touchstone_2_network(front_face_touchstone_file, f_unit='MHz')\n",
      "# The characteristic impedance in the touchstone exportation was normalized to 50 Ohm  \n",
      "# Here we renormalize it to the port characteristic impedance\n",
      "front_face.renormalize(z_new=front_face_Z0)\n",
      "\n",
      "front_face"
     ],
     "language": "python",
     "metadata": {},
     "outputs": [
      {
       "metadata": {},
       "output_type": "pyout",
       "prompt_number": 3,
       "text": [
        "4-Port Network: 'EAST_ICRH_BportAntenna_EAST_ICRH_BportAntenna_2',  20-60 MHz, 81 pts, z0=[ 24.72487+0.j  24.72487+0.j  24.72487+0.j  24.72487+0.j]"
       ]
      }
     ],
     "prompt_number": 3
    },
    {
     "cell_type": "markdown",
     "metadata": {},
     "source": [
      "For consistency with the previous data, below we define the global frequency bandwith on which we will work in next sections:"
     ]
    },
    {
     "cell_type": "code",
     "collapsed": false,
     "input": [
      "frequency = front_face.frequency\n",
      "frequency"
     ],
     "language": "python",
     "metadata": {},
     "outputs": [
      {
       "metadata": {},
       "output_type": "pyout",
       "prompt_number": 4,
       "text": [
        "20-60 MHz, 81 pts"
       ]
      }
     ],
     "prompt_number": 4
    },
    {
     "cell_type": "heading",
     "level": 1,
     "metadata": {},
     "source": [
      "Electrical layout"
     ]
    },
    {
     "cell_type": "heading",
     "level": 2,
     "metadata": {},
     "source": [
      "Capacitors"
     ]
    },
    {
     "cell_type": "markdown",
     "metadata": {},
     "source": [
      "The matching of the resonant double loop (RDL) is performed here by capacitors. In a preliminary approach, these capacitors are modelled by a self inductance $L_C$ in serie with a capacitance $C$. The resulting circuit is expressed as a two port network given by the following function.  "
     ]
    },
    {
     "cell_type": "code",
     "collapsed": false,
     "input": [
      "def capacitor_to_network(freq, C, L=25e-9, Z0=50):\n",
      "    '''\n",
      "    Create a 2 ports-network consisting of a serie capacitance and inductance\n",
      "    \n",
      "    Inputs:\n",
      "        f : skrf.Frequency\n",
      "        C : capacitance in Farad\n",
      "        L : inductance in Henry (default : 25 nH)\n",
      "        Z0: characteristic impedance in Ohm (default: 50 Ohm)\n",
      "    Returns:\n",
      "        skrf.Network \n",
      "    '''\n",
      "    S_capacitor = np.zeros((freq.npoints, 2, 2), dtype='complex')\n",
      "    \n",
      "    for idf,f in enumerate(freq.f):\n",
      "        Z_C_serie = 1.0 / (1j*C*2*np.pi*f)\n",
      "        Z_L_serie = 1j*L*2*np.pi*f\n",
      "        Z_R_serie = 0e-9\n",
      "        Z_capacitor = Z_R_serie + Z_C_serie + Z_L_serie\n",
      "    \n",
      "        # serie-thru impedance S-matrix\n",
      "        S_capacitor[idf,] = 1/(Z_capacitor+2*Z0)*np.array([[Z_capacitor,2*Z0],[2*Z0, Z_capacitor]])\n",
      "        \n",
      "    return(rf.Network(frequency=freq, s=S_capacitor, z0=Z0))"
     ],
     "language": "python",
     "metadata": {},
     "outputs": [],
     "prompt_number": 5
    },
    {
     "cell_type": "heading",
     "level": 2,
     "metadata": {},
     "source": [
      "T-junction"
     ]
    },
    {
     "cell_type": "markdown",
     "metadata": {},
     "source": [
      "Above we define an ideal T-junction (bridge), with Zin as input characteristic impedance, and the front face characteristic impedance for the output ports. [Cf other notebook for demonstration]"
     ]
    },
    {
     "cell_type": "code",
     "collapsed": false,
     "input": [
      "def Z_par(Zj, Zk):\n",
      "    return( Zj*Zk / (Zj + Zk))\n",
      "\n",
      "def Sii(Zi, Zj, Zk):\n",
      "    Zjk = Z_par(Zj, Zk)\n",
      "    Sii = (Zjk - Zi)/(Zjk + Zi)\n",
      "    return(Sii)\n",
      "    \n",
      "def Sji(Zi, Zj, Zk):\n",
      "    Zjk = Z_par(Zj, Zk)\n",
      "    Sji = sqrt(Zi)/sqrt(Zj)*2*Zjk / (Zjk + Zi) \n",
      "    return(Sji)\n",
      "    \n",
      "def get_s_bridge(Z0,Z1,Z2):\n",
      "    S = np.zeros((3,3))\n",
      "    S[0,0] = Sii(Z0, Z1, Z2)\n",
      "    S[1,1] = Sii(Z1, Z2, Z0)\n",
      "    S[2,2] = Sii(Z2, Z0, Z1)\n",
      "    \n",
      "    S[1,0] = Sji(Z0, Z1, Z2)\n",
      "    S[2,0] = Sji(Z0, Z2, Z1)\n",
      "    S[2,1] = Sji(Z1, Z2, Z0)\n",
      "    S[0,1] = Sji(Z1, Z0, Z2)\n",
      "    S[0,2] = Sji(Z2, Z0, Z1)\n",
      "    S[1,2] = Sji(Z2, Z1, Z0)\n",
      "    return(S)\n",
      "\n",
      "S_bridge_ideal = get_s_bridge(Z_in, front_face_Z0, front_face_Z0)"
     ],
     "language": "python",
     "metadata": {},
     "outputs": [],
     "prompt_number": 6
    },
    {
     "cell_type": "code",
     "collapsed": false,
     "input": [
      "S_bridge_ideal"
     ],
     "language": "python",
     "metadata": {},
     "outputs": [
      {
       "metadata": {},
       "output_type": "pyout",
       "prompt_number": 7,
       "text": [
        "array([[ 0.51107522,  0.60778373,  0.60778373],\n",
        "       [ 0.60778373, -0.75553761,  0.24446239],\n",
        "       [ 0.60778373,  0.24446239, -0.75553761]])"
       ]
      }
     ],
     "prompt_number": 7
    },
    {
     "cell_type": "code",
     "collapsed": false,
     "input": [
      "# Passivity check\n",
      "np.allclose(np.eye(3), np.dot(S_bridge_ideal, np.transpose(np.conjugate(S_bridge_ideal))))"
     ],
     "language": "python",
     "metadata": {},
     "outputs": [
      {
       "metadata": {},
       "output_type": "pyout",
       "prompt_number": 8,
       "text": [
        "True"
       ]
      }
     ],
     "prompt_number": 8
    },
    {
     "cell_type": "code",
     "collapsed": false,
     "input": [
      "# Creating a rf.Network from the scattering matrix\n",
      "# the ideal S matrix is repeated fx3x3\n",
      "S = S_bridge_ideal.reshape(1,3,3).repeat(frequency.npoints,axis=0)\n",
      "bridge = rf.Network(frequency=frequency, s=S, z0=[Z_in, front_face_Z0, front_face_Z0])\n",
      "bridge"
     ],
     "language": "python",
     "metadata": {},
     "outputs": [
      {
       "metadata": {},
       "output_type": "pyout",
       "prompt_number": 9,
       "text": [
        "3-Port Network: '',  20-60 MHz, 81 pts, z0=[  4.00000+0.j  24.72487+0.j  24.72487+0.j]"
       ]
      }
     ],
     "prompt_number": 9
    },
    {
     "cell_type": "heading",
     "level": 2,
     "metadata": {},
     "source": [
      "Capacitors + T-junction"
     ]
    },
    {
     "cell_type": "markdown",
     "metadata": {},
     "source": [
      "The above function connect two matching capacitors to the T-junction. The resulting is a 3-port network, with port#1 as the feeding port. Port 2 and 3 are to be connected to the straps. "
     ]
    },
    {
     "cell_type": "code",
     "collapsed": false,
     "input": [
      "def matching_unit(freq, bridge, C1, C2):\n",
      "    '''\n",
      "    Connect the two matching units to the loaded front face\n",
      "    '''\n",
      "    capa_H = capacitor_to_network(freq, C=C1, Z0=front_face_Z0) # Z0 to match HFSS export\n",
      "    capa_B = capacitor_to_network(freq, C=C2, Z0=front_face_Z0)\n",
      "    return(rf.connect(rf.connect(bridge,1, capa_H,0),2, capa_B,0))"
     ],
     "language": "python",
     "metadata": {},
     "outputs": [],
     "prompt_number": 10
    },
    {
     "cell_type": "code",
     "collapsed": false,
     "input": [
      "matching_unit1 = matching_unit(frequency, bridge, 50e-12, 100e-12)\n",
      "matching_unit1.name = 'matching unit'\n",
      "matching_unit1"
     ],
     "language": "python",
     "metadata": {},
     "outputs": [
      {
       "metadata": {},
       "output_type": "pyout",
       "prompt_number": 11,
       "text": [
        "3-Port Network: 'matching unit',  20-60 MHz, 81 pts, z0=[  4.00000+0.j  24.72487+0.j  24.72487+0.j]"
       ]
      }
     ],
     "prompt_number": 11
    },
    {
     "cell_type": "heading",
     "level": 2,
     "metadata": {},
     "source": [
      "Front Face + Capacitor + T-junction"
     ]
    },
    {
     "cell_type": "markdown",
     "metadata": {},
     "source": [
      "Here we connect the front face to two toroidally adjacent matching units. The resulting is a two port network, corresponding to the two feeding lines (ie. from generators)."
     ]
    },
    {
     "cell_type": "code",
     "collapsed": false,
     "input": [
      "def antenna_network(C, freq, bridge, front_face):\n",
      "    '''\n",
      "    Returns the 2 ports network representing the loaded antenna \n",
      "    for a given capacitors set C1,C2,C3,C4. \n",
      "    \n",
      "    C1 and C3 are paired\n",
      "    C2 and C4 are paired \n",
      "    \n",
      "    Inputs\n",
      "        freq: rf.Frequency\n",
      "        C : [C1,C2,C3,C4] capacitor values in farad\n",
      "    Returns\n",
      "        rf.Network\n",
      "    '''\n",
      "    matching_unit_l = matching_unit(freq, bridge, C[0], C[2])\n",
      "    matching_unit_r = matching_unit(freq, bridge, C[1], C[3])\n",
      "    \n",
      "    # ports 0 & 2 of the front face are connected to port 1 and 2 of the matching unit\n",
      "    # ports 1 & 3 of the front face are connected to port 1 and 2 of the matching unit  \n",
      "    temp = rf.innerconnect(rf.connect(front_face, 0, matching_unit_l, 1), 1, 4) \n",
      "    network = rf.innerconnect(rf.connect(temp, 0, matching_unit_r, 1), 0, 3)\n",
      "    network.name = 'antenna'\n",
      "    return(network)"
     ],
     "language": "python",
     "metadata": {},
     "outputs": [],
     "prompt_number": 12
    },
    {
     "cell_type": "markdown",
     "metadata": {},
     "source": [
      "Below we construct an antenna and set up with arbitrary capacitor values. Then plot the S11 and S22."
     ]
    },
    {
     "cell_type": "code",
     "collapsed": false,
     "input": [
      "import scipy\n",
      "C = 50e-12 + scipy.random.rand(4)*(300e-12 - 50e-12)\n",
      "print(C)\n",
      "antenna = antenna_network(C, frequency, bridge, front_face)\n",
      "antenna"
     ],
     "language": "python",
     "metadata": {},
     "outputs": [
      {
       "output_type": "stream",
       "stream": "stdout",
       "text": [
        "[  2.86998818e-10   2.45706114e-10   1.57958927e-10   5.96029002e-11]\n"
       ]
      },
      {
       "metadata": {},
       "output_type": "pyout",
       "prompt_number": 13,
       "text": [
        "2-Port Network: 'antenna',  20-60 MHz, 81 pts, z0=[ 4.+0.j  4.+0.j]"
       ]
      }
     ],
     "prompt_number": 13
    },
    {
     "cell_type": "code",
     "collapsed": false,
     "input": [
      "antenna.plot_s_db(m=0, n=0)\n",
      "antenna.plot_s_db(m=1, n=1)\n",
      "legend(loc='best'); grid(True)\n",
      "title('random capacitor values')\n",
      "ylim([-20,0])"
     ],
     "language": "python",
     "metadata": {},
     "outputs": [
      {
       "metadata": {},
       "output_type": "pyout",
       "prompt_number": 14,
       "text": [
        "(-20, 0)"
       ]
      },
      {
       "metadata": {},
       "output_type": "display_data",
       "png": "[encoded data removed]",
       "text": [
        "<matplotlib.figure.Figure at 0xad356a0>"
       ]
      }
     ],
     "prompt_number": 14
    },
    {
     "cell_type": "heading",
     "level": 1,
     "metadata": {},
     "source": [
      "Matching Calculation"
     ]
    },
    {
     "cell_type": "markdown",
     "metadata": {},
     "source": [
      "In this section we define the matching strategy to match the antenna at a given frequency, that is, to find the set of four capacitors values for which the (active) return loss is minimized for a given phase excitation (monopole, dipole, etc). "
     ]
    },
    {
     "cell_type": "markdown",
     "metadata": {},
     "source": [
      "First, let's defined the parameters we will look for:"
     ]
    },
    {
     "cell_type": "code",
     "collapsed": false,
     "input": [
      "def get_s_active(S, a_in):\n",
      "    '''\n",
      "    Returns the \"active\" S-parameters, defined by \n",
      "    \n",
      "    S1 = S11*a1/a1 + S12*a2/a1\n",
      "    S2 = S21*a1/a2 + S22*a2/a2\n",
      "    '''\n",
      "    S1_active = (S[:,0,0]*a_in[0] + S[:,0,1]*a_in[1])/a_in[0]\n",
      "    S2_active = (S[:,1,0]*a_in[0] + S[:,1,1]*a_in[1])/a_in[1]    \n",
      "    # transpose in order to have an array f x 2\n",
      "    return(np.transpose([S1_active, S2_active]))\n",
      "\n",
      "def get_z_active(S, a_in, z0):\n",
      "    '''\n",
      "    Returns the \"active\" Z-parameters, defined by\n",
      "    \n",
      "    Zi = Z0i*(1+Sact_i)/(1-Sact_i)\n",
      "    '''\n",
      "    Sact = get_s_active(S, a_in)\n",
      "    # active impedance parameters\n",
      "    Z1_active = z0[:,0]*(1+Sact[:,0])/(1-Sact[:,0])\n",
      "    Z2_active = z0[:,1]*(1+Sact[:,1])/(1-Sact[:,1])\n",
      "    # transpose in order to have an array f x 2\n",
      "    return(np.transpose([Z1_active, Z2_active]))\n",
      "\n",
      "def get_vswr_active(Sact):\n",
      "    '''\n",
      "    Returns the \"active\" VSWR, defined from the \"active\" S-parameters \n",
      "    \n",
      "    VSWRact = 1+|Sact| / 1-|Sact|\n",
      "    '''\n",
      "    vswr1_active = (1+np.abs(Sact[:,0]))/(1-np.abs(Sact[:,0]))\n",
      "    vswr2_active = (1+np.abs(Sact[:,1]))/(1-np.abs(Sact[:,1]))\n",
      "    # transpose in order to have an array f x 2\n",
      "    return(np.transpose([vswr1_active, vswr2_active]))"
     ],
     "language": "python",
     "metadata": {},
     "outputs": [],
     "prompt_number": 15
    },
    {
     "cell_type": "markdown",
     "metadata": {},
     "source": [
      "Below we define the minimization criteria that the optimization routine will use:"
     ]
    },
    {
     "cell_type": "code",
     "collapsed": false,
     "input": [
      "def optim_fun(C, f_match, freq, a_in, bridge, front_face):\n",
      "    '''\n",
      "    Optimization function\n",
      "    \n",
      "    returns\n",
      "        y: minimization criteria\n",
      "    '''\n",
      "    antenna = antenna_network(C, freq, bridge, front_face)\n",
      "    # frequency index for matching frequency\n",
      "    index_f_match = np.argmin(np.abs(freq.f - f_match))\n",
      "    \n",
      "    S_active = get_s_active(antenna.s, a_in)    \n",
      "    # target : minimize return loss\n",
      "    y = [np.real(S_active[index_f_match,0]) - 0,\n",
      "         np.real(S_active[index_f_match,1]) - 0,\n",
      "         np.imag(S_active[index_f_match,0]) - 0,\n",
      "         np.imag(S_active[index_f_match,1]) - 0]\n",
      "    \n",
      "    # other possible target : minimize as-seen impedance\n",
      "    #Z_active = get_z_active(antenna.s, a_in, antenna.z0)    \n",
      "    #y = [np.real(Z_active[index_f_match,0]) - T_Z0,\n",
      "    #     np.imag(Z_active[index_f_match,0]) - 0,\n",
      "    #     np.real(Z_active[index_f_match,1]) - T_Z0,\n",
      "    #     np.imag(Z_active[index_f_match,1]) - 0]     \n",
      "    \n",
      "    \n",
      "    return(y)"
     ],
     "language": "python",
     "metadata": {},
     "outputs": [],
     "prompt_number": 16
    },
    {
     "cell_type": "heading",
     "level": 1,
     "metadata": {},
     "source": [
      "Matching Example"
     ]
    },
    {
     "cell_type": "markdown",
     "metadata": {},
     "source": [
      "We are looking for a match @"
     ]
    },
    {
     "cell_type": "code",
     "collapsed": false,
     "input": [
      "# matching frequency\n",
      "f_match = 35e6\n",
      "\n",
      "# excitation mode\n",
      "a_in = [+1, -1]"
     ],
     "language": "python",
     "metadata": {},
     "outputs": [],
     "prompt_number": 17
    },
    {
     "cell_type": "markdown",
     "metadata": {},
     "source": [
      "Below is the call to the optimization routine. As the results heavily depends of the starting point location, we first generates a set of initial guess for the capacitor set, and loop until we find a set of values which is physical, ie which is within the capacitor range."
     ]
    },
    {
     "cell_type": "code",
     "collapsed": false,
     "input": [
      "import scipy.optimize\n",
      "success = False\n",
      "while success == False:\n",
      "    # generates a random capacitors set between 50pF and 300pF\n",
      "    C0 = 50e-12 + scipy.random.rand(4)*(300e-12 - 50e-12)\n",
      "    # scipy.optimize.root : Unified interface for nonlinear solvers of multivariate functions\n",
      "    # 'lm' stands for least square sense. This methods tends to obtain the first solution in few loops\n",
      "    sol = scipy.optimize.root(optim_fun, C0, args=(f_match, frequency, a_in, bridge, front_face), method='lm')\n",
      "    success = sol.success\n",
      "            \n",
      "    print(success, sol.x/1e-12)\n",
      "                \n",
      "    for idm,Cm in enumerate(sol.x):\n",
      "        if (Cm < 50e-12) or (Cm > 300e-12):\n",
      "            success = False\n",
      "            print('Solution found out of capacitor range ! Re-doing...')\n",
      "    \n",
      "    print(sol.x/1e-12)        "
     ],
     "language": "python",
     "metadata": {},
     "outputs": [
      {
       "output_type": "stream",
       "stream": "stdout",
       "text": [
        "(True, array([  1.19999508e+02,   1.13988563e+02,   8.90613893e+05,\n",
        "         1.23340454e+02]))\n",
        "Solution found out of capacitor range ! Re-doing...\n",
        "[  1.19999508e+02   1.13988563e+02   8.90613893e+05   1.23340454e+02]\n",
        "(True, array([  1.23265724e+02,   2.57193325e+06,   1.14076572e+02,\n",
        "         1.20068285e+02]))"
       ]
      },
      {
       "output_type": "stream",
       "stream": "stdout",
       "text": [
        "\n",
        "Solution found out of capacitor range ! Re-doing...\n",
        "[  1.23265724e+02   2.57193325e+06   1.14076572e+02   1.20068285e+02]\n",
        "(True, array([  1.15775175e+02,  -6.96247170e+11,  -1.00575020e+12,\n",
        "         1.15799706e+02]))"
       ]
      },
      {
       "output_type": "stream",
       "stream": "stdout",
       "text": [
        "\n",
        "Solution found out of capacitor range ! Re-doing...\n",
        "Solution found out of capacitor range ! Re-doing...\n",
        "[  1.15775175e+02  -6.96247170e+11  -1.00575020e+12   1.15799706e+02]\n",
        "(True, array([  3.02227367e+11,   3.05024507e+11,   1.16873158e+02,\n",
        "        -1.01967625e+12]))"
       ]
      },
      {
       "output_type": "stream",
       "stream": "stdout",
       "text": [
        "\n",
        "Solution found out of capacitor range ! Re-doing...\n",
        "Solution found out of capacitor range ! Re-doing...\n",
        "Solution found out of capacitor range ! Re-doing...\n",
        "[  3.02227367e+11   3.05024507e+11   1.16873158e+02  -1.01967625e+12]\n",
        "(True, array([ 116.83038838,  116.98747154,  125.14041303,  125.52441614]))"
       ]
      },
      {
       "output_type": "stream",
       "stream": "stdout",
       "text": [
        "\n",
        "[ 116.83038838  116.98747154  125.14041303  125.52441614]\n"
       ]
      }
     ],
     "prompt_number": 18
    },
    {
     "cell_type": "code",
     "collapsed": false,
     "input": [
      "# Other possible solution sets: \n",
      "\n",
      "# [ 126.05220189  108.21202537  108.28658675  126.13734406]\n",
      "# [ 108.35017469  125.98770253  126.09622241  108.38332422]\n",
      "# [ 115.98029063  116.08399439  126.19607927  126.46226211]\n",
      "\n",
      "# [ 124.09846906  109.49529582  109.56485206  124.18099362]\n",
      "# [ 109.65263647  124.04204356  124.15023392  109.68018413]\n",
      "# [ 116.83038838  116.98747154  125.14041303  125.52441614]\n",
      "# [ 125.44505279  125.05855338  117.06790523  116.88759117]\n",
      "print(\"Match point : {C} pF\".format(C=sol.x/1e-12))"
     ],
     "language": "python",
     "metadata": {},
     "outputs": [
      {
       "output_type": "stream",
       "stream": "stdout",
       "text": [
        "Match point : [ 116.83038838  116.98747154  125.14041303  125.52441614] pF\n"
       ]
      }
     ],
     "prompt_number": 19
    },
    {
     "cell_type": "markdown",
     "metadata": {},
     "source": [
      "Assuming that the match point has been found, we put this solution into the antenna:"
     ]
    },
    {
     "cell_type": "code",
     "collapsed": false,
     "input": [
      "C=sol.x\n",
      "antenna = antenna_network(C, frequency, bridge, front_face)"
     ],
     "language": "python",
     "metadata": {},
     "outputs": [],
     "prompt_number": 20
    },
    {
     "cell_type": "code",
     "collapsed": false,
     "input": [
      "antenna.plot_s_db(m=0, n=0)\n",
      "antenna.plot_s_db(m=1, n=1)\n",
      "grid(True)"
     ],
     "language": "python",
     "metadata": {},
     "outputs": [
      {
       "metadata": {},
       "output_type": "display_data",
       "png": "[encoded data removed]",
       "text": [
        "<matplotlib.figure.Figure at 0x1450a710>"
       ]
      }
     ],
     "prompt_number": 21
    },
    {
     "cell_type": "code",
     "collapsed": false,
     "input": [
      "S_active = get_s_active(antenna.s, a_in)\n",
      "plot(frequency.f/1e6, 20*np.log10(np.abs(S_active)))\n",
      "grid(True)\n",
      "title('\"Active\" S-parameters')\n",
      "ylabel('Magnitude [dB]')\n",
      "xlabel('f [MHz]')"
     ],
     "language": "python",
     "metadata": {},
     "outputs": [
      {
       "metadata": {},
       "output_type": "pyout",
       "prompt_number": 22,
       "text": [
        "<matplotlib.text.Text at 0x1450fd30>"
       ]
      },
      {
       "metadata": {},
       "output_type": "display_data",
       "png": "[encoded data removed]",
       "text": [
        "<matplotlib.figure.Figure at 0x1451ed68>"
       ]
      }
     ],
     "prompt_number": 22
    },
    {
     "cell_type": "code",
     "collapsed": false,
     "input": [],
     "language": "python",
     "metadata": {},
     "outputs": [],
     "prompt_number": 22
    }
   ],
   "metadata": {}
  }
 ]
}